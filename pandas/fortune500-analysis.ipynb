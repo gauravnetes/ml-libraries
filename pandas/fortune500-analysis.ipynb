{
 "cells": [
  {
   "cell_type": "code",
   "execution_count": 1,
   "id": "de7665cf-4fed-4ad5-ac07-19f81b6c66b0",
   "metadata": {},
   "outputs": [],
   "source": [
    "import pandas as pd"
   ]
  },
  {
   "cell_type": "code",
   "execution_count": 2,
   "id": "bd053bee-56c1-45ff-8266-7d0562d91814",
   "metadata": {},
   "outputs": [],
   "source": [
    "import numpy as np"
   ]
  },
  {
   "cell_type": "code",
   "execution_count": 6,
   "id": "ef747242-bd0d-43a3-968b-e651d2475a2b",
   "metadata": {},
   "outputs": [],
   "source": [
    "company = pd.read_csv('fortune500.csv', encoding = 'latin1')"
   ]
  },
  {
   "cell_type": "code",
   "execution_count": 7,
   "id": "7ba7e474-146a-4dff-8e1a-91d07205b458",
   "metadata": {},
   "outputs": [
    {
     "data": {
      "text/html": [
       "<div>\n",
       "<style scoped>\n",
       "    .dataframe tbody tr th:only-of-type {\n",
       "        vertical-align: middle;\n",
       "    }\n",
       "\n",
       "    .dataframe tbody tr th {\n",
       "        vertical-align: top;\n",
       "    }\n",
       "\n",
       "    .dataframe thead th {\n",
       "        text-align: right;\n",
       "    }\n",
       "</style>\n",
       "<table border=\"1\" class=\"dataframe\">\n",
       "  <thead>\n",
       "    <tr style=\"text-align: right;\">\n",
       "      <th></th>\n",
       "      <th>Rank</th>\n",
       "      <th>Company Name</th>\n",
       "      <th>Number of Employees</th>\n",
       "      <th>Previous Rank</th>\n",
       "      <th>Revenues</th>\n",
       "      <th>Revenue Change</th>\n",
       "      <th>Profits</th>\n",
       "      <th>Profit Change</th>\n",
       "      <th>Assets</th>\n",
       "      <th>Market Value</th>\n",
       "    </tr>\n",
       "  </thead>\n",
       "  <tbody>\n",
       "    <tr>\n",
       "      <th>0</th>\n",
       "      <td>1</td>\n",
       "      <td>Walmart</td>\n",
       "      <td>23,00,000</td>\n",
       "      <td>1.0</td>\n",
       "      <td>$4,85,873</td>\n",
       "      <td>0.8%</td>\n",
       "      <td>$13,643.0</td>\n",
       "      <td>-7.2%</td>\n",
       "      <td>$1,98,825</td>\n",
       "      <td>$2,18,619</td>\n",
       "    </tr>\n",
       "    <tr>\n",
       "      <th>1</th>\n",
       "      <td>2</td>\n",
       "      <td>Berkshire Hathaway</td>\n",
       "      <td>3,67,700</td>\n",
       "      <td>4.0</td>\n",
       "      <td>$2,23,604</td>\n",
       "      <td>6.1%</td>\n",
       "      <td>$24,074.0</td>\n",
       "      <td>0.0%</td>\n",
       "      <td>$6,20,854</td>\n",
       "      <td>$4,11,035</td>\n",
       "    </tr>\n",
       "    <tr>\n",
       "      <th>2</th>\n",
       "      <td>3</td>\n",
       "      <td>Apple</td>\n",
       "      <td>1,16,000</td>\n",
       "      <td>3.0</td>\n",
       "      <td>$2,15,639</td>\n",
       "      <td>-7.7%</td>\n",
       "      <td>$45,687.0</td>\n",
       "      <td>-14.4%</td>\n",
       "      <td>$3,21,686</td>\n",
       "      <td>$7,53,718</td>\n",
       "    </tr>\n",
       "    <tr>\n",
       "      <th>3</th>\n",
       "      <td>4</td>\n",
       "      <td>Exxon Mobil</td>\n",
       "      <td>72,700</td>\n",
       "      <td>2.0</td>\n",
       "      <td>$2,05,004</td>\n",
       "      <td>-16.7%</td>\n",
       "      <td>$7,840.0</td>\n",
       "      <td>-51.5%</td>\n",
       "      <td>$3,30,314</td>\n",
       "      <td>$3,40,056</td>\n",
       "    </tr>\n",
       "    <tr>\n",
       "      <th>4</th>\n",
       "      <td>5</td>\n",
       "      <td>McKesson</td>\n",
       "      <td>68,000</td>\n",
       "      <td>5.0</td>\n",
       "      <td>$1,92,487</td>\n",
       "      <td>6.2%</td>\n",
       "      <td>$2,258.0</td>\n",
       "      <td>53.0%</td>\n",
       "      <td>$56,563</td>\n",
       "      <td>$31,439</td>\n",
       "    </tr>\n",
       "  </tbody>\n",
       "</table>\n",
       "</div>"
      ],
      "text/plain": [
       "   Rank        Company Name Number of Employees  Previous Rank   Revenues  \\\n",
       "0     1             Walmart           23,00,000            1.0  $4,85,873   \n",
       "1     2  Berkshire Hathaway            3,67,700            4.0  $2,23,604   \n",
       "2     3               Apple            1,16,000            3.0  $2,15,639   \n",
       "3     4         Exxon Mobil              72,700            2.0  $2,05,004   \n",
       "4     5            McKesson              68,000            5.0  $1,92,487   \n",
       "\n",
       "  Revenue Change    Profits Profit Change     Assets Market Value  \n",
       "0           0.8%  $13,643.0         -7.2%  $1,98,825    $2,18,619  \n",
       "1           6.1%  $24,074.0          0.0%  $6,20,854    $4,11,035  \n",
       "2          -7.7%  $45,687.0        -14.4%  $3,21,686    $7,53,718  \n",
       "3         -16.7%   $7,840.0        -51.5%  $3,30,314    $3,40,056  \n",
       "4           6.2%   $2,258.0         53.0%    $56,563      $31,439  "
      ]
     },
     "execution_count": 7,
     "metadata": {},
     "output_type": "execute_result"
    }
   ],
   "source": [
    "company.head()"
   ]
  },
  {
   "cell_type": "code",
   "execution_count": null,
   "id": "62540683-4e46-42b4-b6e5-f5504f250590",
   "metadata": {},
   "outputs": [],
   "source": [
    "company."
   ]
  }
 ],
 "metadata": {
  "kernelspec": {
   "display_name": "Python [conda env:base] *",
   "language": "python",
   "name": "conda-base-py"
  },
  "language_info": {
   "codemirror_mode": {
    "name": "ipython",
    "version": 3
   },
   "file_extension": ".py",
   "mimetype": "text/x-python",
   "name": "python",
   "nbconvert_exporter": "python",
   "pygments_lexer": "ipython3",
   "version": "3.12.7"
  }
 },
 "nbformat": 4,
 "nbformat_minor": 5
}
