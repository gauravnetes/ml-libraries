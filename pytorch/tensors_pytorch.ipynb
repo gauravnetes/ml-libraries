{
  "nbformat": 4,
  "nbformat_minor": 0,
  "metadata": {
    "colab": {
      "provenance": [],
      "gpuType": "T4"
    },
    "kernelspec": {
      "name": "python3",
      "display_name": "Python 3"
    },
    "language_info": {
      "name": "python"
    },
    "accelerator": "GPU"
  },
  "cells": [
    {
      "cell_type": "code",
      "execution_count": 1,
      "metadata": {
        "colab": {
          "base_uri": "https://localhost:8080/"
        },
        "id": "goli2J_mn89w",
        "outputId": "63622e42-97df-4a26-e82b-99bc449c7428"
      },
      "outputs": [
        {
          "output_type": "stream",
          "name": "stdout",
          "text": [
            "2.6.0+cu124\n"
          ]
        }
      ],
      "source": [
        "import torch\n",
        "print(torch.__version__)"
      ]
    },
    {
      "cell_type": "code",
      "source": [
        "if torch.cuda.is_available():\n",
        "  print(\"GPU is Available\")\n",
        "  print(f\"Using GPU: {torch.cuda.get_device_name(0)}\")\n",
        "else:\n",
        "  print(\"GPU is not Availble, Using CPU\")"
      ],
      "metadata": {
        "colab": {
          "base_uri": "https://localhost:8080/"
        },
        "id": "cp6QLnQYoNjN",
        "outputId": "e89add00-94b3-4835-b5f4-ceb28d7a1a0a"
      },
      "execution_count": 2,
      "outputs": [
        {
          "output_type": "stream",
          "name": "stdout",
          "text": [
            "GPU is Available\n",
            "Using GPU: Tesla T4\n"
          ]
        }
      ]
    },
    {
      "cell_type": "code",
      "source": [
        "# creating a Tensor\n",
        "t = torch.empty(2, 3)"
      ],
      "metadata": {
        "id": "9PD3QgZzo3YH"
      },
      "execution_count": 6,
      "outputs": []
    },
    {
      "cell_type": "code",
      "source": [
        "# check type\n",
        "type(t)"
      ],
      "metadata": {
        "colab": {
          "base_uri": "https://localhost:8080/"
        },
        "id": "JTwKGV36pcSu",
        "outputId": "a988c002-58c0-4b02-d946-4bb8c784651a"
      },
      "execution_count": 7,
      "outputs": [
        {
          "output_type": "execute_result",
          "data": {
            "text/plain": [
              "torch.Tensor"
            ]
          },
          "metadata": {},
          "execution_count": 7
        }
      ]
    },
    {
      "cell_type": "code",
      "source": [
        "# using zeros\n",
        "torch.zeros(2, 3)"
      ],
      "metadata": {
        "colab": {
          "base_uri": "https://localhost:8080/"
        },
        "id": "Jv_rMWXOpjiz",
        "outputId": "db0c559b-de41-407d-d5c0-d9440baac1c1"
      },
      "execution_count": 8,
      "outputs": [
        {
          "output_type": "execute_result",
          "data": {
            "text/plain": [
              "tensor([[0., 0., 0.],\n",
              "        [0., 0., 0.]])"
            ]
          },
          "metadata": {},
          "execution_count": 8
        }
      ]
    },
    {
      "cell_type": "code",
      "source": [
        "torch.ones(2, 3)"
      ],
      "metadata": {
        "colab": {
          "base_uri": "https://localhost:8080/"
        },
        "id": "BqaZWPuXpsRK",
        "outputId": "8706c0fa-8883-4ef5-aab4-3c46ff387aa0"
      },
      "execution_count": 9,
      "outputs": [
        {
          "output_type": "execute_result",
          "data": {
            "text/plain": [
              "tensor([[1., 1., 1.],\n",
              "        [1., 1., 1.]])"
            ]
          },
          "metadata": {},
          "execution_count": 9
        }
      ]
    },
    {
      "cell_type": "code",
      "source": [
        "torch.rand(2, 3)"
      ],
      "metadata": {
        "colab": {
          "base_uri": "https://localhost:8080/"
        },
        "id": "FnkbYubYpyv7",
        "outputId": "3063f837-70ac-4003-cf64-49653b007a0b"
      },
      "execution_count": 12,
      "outputs": [
        {
          "output_type": "execute_result",
          "data": {
            "text/plain": [
              "tensor([[0.6446, 0.0082, 0.5724],\n",
              "        [0.3417, 0.3996, 0.4358]])"
            ]
          },
          "metadata": {},
          "execution_count": 12
        }
      ]
    },
    {
      "cell_type": "code",
      "source": [
        "# manual seed\n",
        "torch.manual_seed(100)\n",
        "torch.rand(2, 3)"
      ],
      "metadata": {
        "colab": {
          "base_uri": "https://localhost:8080/"
        },
        "id": "Qxbv2vw2p2_n",
        "outputId": "2acb8112-7939-418a-e4b4-bc5be670866c"
      },
      "execution_count": 14,
      "outputs": [
        {
          "output_type": "execute_result",
          "data": {
            "text/plain": [
              "tensor([[0.1117, 0.8158, 0.2626],\n",
              "        [0.4839, 0.6765, 0.7539]])"
            ]
          },
          "metadata": {},
          "execution_count": 14
        }
      ]
    },
    {
      "cell_type": "code",
      "source": [
        "# custom tensor\n",
        "torch.tensor([[1, 2, 3], [4, 5, 6]])"
      ],
      "metadata": {
        "colab": {
          "base_uri": "https://localhost:8080/"
        },
        "id": "sGco33rsqMrI",
        "outputId": "8aa663b4-48c7-4581-fa9c-f3cfb007e26b"
      },
      "execution_count": 16,
      "outputs": [
        {
          "output_type": "execute_result",
          "data": {
            "text/plain": [
              "tensor([[1, 2, 3],\n",
              "        [4, 5, 6]])"
            ]
          },
          "metadata": {},
          "execution_count": 16
        }
      ]
    },
    {
      "cell_type": "code",
      "source": [
        "torch.arange(0, 10, 2)"
      ],
      "metadata": {
        "colab": {
          "base_uri": "https://localhost:8080/"
        },
        "id": "lKK_ZfU6qdMe",
        "outputId": "c8e084a6-1569-4794-b287-d2247cb6651a"
      },
      "execution_count": 17,
      "outputs": [
        {
          "output_type": "execute_result",
          "data": {
            "text/plain": [
              "tensor([0, 2, 4, 6, 8])"
            ]
          },
          "metadata": {},
          "execution_count": 17
        }
      ]
    },
    {
      "cell_type": "code",
      "source": [
        "# linearly spaced\n",
        "torch.linspace(0, 10, 10)"
      ],
      "metadata": {
        "colab": {
          "base_uri": "https://localhost:8080/"
        },
        "id": "wtFs7MIZqq7N",
        "outputId": "e816a2a2-6b5a-47d4-9a6f-7cac37e86f65"
      },
      "execution_count": 18,
      "outputs": [
        {
          "output_type": "execute_result",
          "data": {
            "text/plain": [
              "tensor([ 0.0000,  1.1111,  2.2222,  3.3333,  4.4444,  5.5556,  6.6667,  7.7778,\n",
              "         8.8889, 10.0000])"
            ]
          },
          "metadata": {},
          "execution_count": 18
        }
      ]
    },
    {
      "cell_type": "code",
      "source": [
        "# identity matrix\n",
        "torch.eye(5)"
      ],
      "metadata": {
        "colab": {
          "base_uri": "https://localhost:8080/"
        },
        "id": "e5zHwCoXqzHA",
        "outputId": "b023ecd7-ad88-4661-e2cb-abe3ce428efd"
      },
      "execution_count": 19,
      "outputs": [
        {
          "output_type": "execute_result",
          "data": {
            "text/plain": [
              "tensor([[1., 0., 0., 0., 0.],\n",
              "        [0., 1., 0., 0., 0.],\n",
              "        [0., 0., 1., 0., 0.],\n",
              "        [0., 0., 0., 1., 0.],\n",
              "        [0., 0., 0., 0., 1.]])"
            ]
          },
          "metadata": {},
          "execution_count": 19
        }
      ]
    },
    {
      "cell_type": "code",
      "source": [
        "torch.full((3, 3), 5)"
      ],
      "metadata": {
        "colab": {
          "base_uri": "https://localhost:8080/"
        },
        "id": "h9xIr_Hjq5uF",
        "outputId": "2df0d1b2-d807-43f3-a681-2e00fe6e82e2"
      },
      "execution_count": 20,
      "outputs": [
        {
          "output_type": "execute_result",
          "data": {
            "text/plain": [
              "tensor([[5, 5, 5],\n",
              "        [5, 5, 5],\n",
              "        [5, 5, 5]])"
            ]
          },
          "metadata": {},
          "execution_count": 20
        }
      ]
    },
    {
      "cell_type": "code",
      "source": [
        "# Tensor Shapes\n",
        "\n",
        "x = torch.tensor([[1, 2, 3], [4, 5, 6]])\n",
        "x.shape"
      ],
      "metadata": {
        "colab": {
          "base_uri": "https://localhost:8080/"
        },
        "id": "G07ULS_irFg8",
        "outputId": "7fbf571c-3c13-45a8-e172-c39722f4e7c0"
      },
      "execution_count": 21,
      "outputs": [
        {
          "output_type": "execute_result",
          "data": {
            "text/plain": [
              "torch.Size([2, 3])"
            ]
          },
          "metadata": {},
          "execution_count": 21
        }
      ]
    },
    {
      "cell_type": "code",
      "source": [
        "torch.empty_like(x)"
      ],
      "metadata": {
        "colab": {
          "base_uri": "https://localhost:8080/"
        },
        "id": "bjVqUkABrc-V",
        "outputId": "bf91e5cf-bdbd-456e-c6ee-d7bde3165597"
      },
      "execution_count": 25,
      "outputs": [
        {
          "output_type": "execute_result",
          "data": {
            "text/plain": [
              "tensor([[1172137984037307205, 5928235795676664320, 5495026351378022729],\n",
              "        [5912955912783466565, 5495026325473546309,  148693834829815621]])"
            ]
          },
          "metadata": {},
          "execution_count": 25
        }
      ]
    },
    {
      "cell_type": "code",
      "source": [
        "torch.zeros_like(x)\n",
        "torch.ones_like(x)"
      ],
      "metadata": {
        "colab": {
          "base_uri": "https://localhost:8080/"
        },
        "id": "HDQFvjqLrner",
        "outputId": "bc768be5-8355-4c51-e509-07b98eb0d0d5"
      },
      "execution_count": 26,
      "outputs": [
        {
          "output_type": "execute_result",
          "data": {
            "text/plain": [
              "tensor([[1, 1, 1],\n",
              "        [1, 1, 1]])"
            ]
          },
          "metadata": {},
          "execution_count": 26
        }
      ]
    },
    {
      "cell_type": "code",
      "source": [
        "torch.rand_like(x, dtype = torch.float32)"
      ],
      "metadata": {
        "colab": {
          "base_uri": "https://localhost:8080/"
        },
        "id": "bjUzighwrxSW",
        "outputId": "158aef35-2d41-44b5-db3a-3d530d3423e2"
      },
      "execution_count": 32,
      "outputs": [
        {
          "output_type": "execute_result",
          "data": {
            "text/plain": [
              "tensor([[0.2627, 0.0428, 0.2080],\n",
              "        [0.1180, 0.1217, 0.7356]])"
            ]
          },
          "metadata": {},
          "execution_count": 32
        }
      ]
    },
    {
      "cell_type": "code",
      "source": [
        "# find data type of tensor\n",
        "x.dtype"
      ],
      "metadata": {
        "colab": {
          "base_uri": "https://localhost:8080/"
        },
        "id": "p6PEJixVsBQu",
        "outputId": "4a99c04c-36c4-4e21-f436-81fae894cf8b"
      },
      "execution_count": 29,
      "outputs": [
        {
          "output_type": "execute_result",
          "data": {
            "text/plain": [
              "torch.int64"
            ]
          },
          "metadata": {},
          "execution_count": 29
        }
      ]
    },
    {
      "cell_type": "code",
      "source": [
        "# specifying dtype of tensor while creating\n",
        "torch.tensor([1.0, 2.0, 3.0], dtype = torch.int32)"
      ],
      "metadata": {
        "colab": {
          "base_uri": "https://localhost:8080/"
        },
        "id": "t2RYTG7ksMdS",
        "outputId": "91a0a8ac-6290-4241-87ca-05d79cad5396"
      },
      "execution_count": 30,
      "outputs": [
        {
          "output_type": "execute_result",
          "data": {
            "text/plain": [
              "tensor([1, 2, 3], dtype=torch.int32)"
            ]
          },
          "metadata": {},
          "execution_count": 30
        }
      ]
    },
    {
      "cell_type": "code",
      "source": [
        "# convrting dtype\n",
        "x.to(torch.float32)"
      ],
      "metadata": {
        "colab": {
          "base_uri": "https://localhost:8080/"
        },
        "id": "2gxZqka3skcZ",
        "outputId": "35a88cbd-6d77-4b38-9341-e3f39769bc85"
      },
      "execution_count": 31,
      "outputs": [
        {
          "output_type": "execute_result",
          "data": {
            "text/plain": [
              "tensor([[1., 2., 3.],\n",
              "        [4., 5., 6.]])"
            ]
          },
          "metadata": {},
          "execution_count": 31
        }
      ]
    },
    {
      "cell_type": "code",
      "source": [
        "# Mathematical Ops on Tensors\n",
        "\n",
        "# scalar ops\n",
        "y = torch.rand(2, 2)\n",
        "y"
      ],
      "metadata": {
        "colab": {
          "base_uri": "https://localhost:8080/"
        },
        "id": "A_rFQV12sueH",
        "outputId": "40e490ad-8e0d-4d0c-a526-3a4e25816239"
      },
      "execution_count": 33,
      "outputs": [
        {
          "output_type": "execute_result",
          "data": {
            "text/plain": [
              "tensor([[0.7118, 0.7876],\n",
              "        [0.4183, 0.9014]])"
            ]
          },
          "metadata": {},
          "execution_count": 33
        }
      ]
    },
    {
      "cell_type": "code",
      "source": [
        "print(y + 2)\n",
        "print(y - 2)\n",
        "print(y * 2)\n",
        "print(y / 2)\n",
        "print(((y * 100) // 3) % 2)\n",
        "print(x ** 2)"
      ],
      "metadata": {
        "colab": {
          "base_uri": "https://localhost:8080/"
        },
        "id": "F_bq26PPtYUj",
        "outputId": "080c202d-3136-493f-ee73-c2ad496526ed"
      },
      "execution_count": 40,
      "outputs": [
        {
          "output_type": "stream",
          "name": "stdout",
          "text": [
            "tensor([[2.7118, 2.7876],\n",
            "        [2.4183, 2.9014]])\n",
            "tensor([[-1.2882, -1.2124],\n",
            "        [-1.5817, -1.0986]])\n",
            "tensor([[1.4235, 1.5752],\n",
            "        [0.8366, 1.8028]])\n",
            "tensor([[0.3559, 0.3938],\n",
            "        [0.2092, 0.4507]])\n",
            "tensor([[1., 0.],\n",
            "        [1., 0.]])\n",
            "tensor([[ 1,  4,  9],\n",
            "        [16, 25, 36]])\n"
          ]
        }
      ]
    },
    {
      "cell_type": "code",
      "source": [
        "# element wise operation in more than one tensor\n",
        "\n",
        "a = torch.rand(2, 3)\n",
        "b = torch.rand(2, 3)\n",
        "print(a)\n",
        "print(b)"
      ],
      "metadata": {
        "colab": {
          "base_uri": "https://localhost:8080/"
        },
        "id": "Yo_HF34ctbb0",
        "outputId": "c69f57a9-c84f-480b-e25d-5188a59e1252"
      },
      "execution_count": 41,
      "outputs": [
        {
          "output_type": "stream",
          "name": "stdout",
          "text": [
            "tensor([[0.9969, 0.7565, 0.2239],\n",
            "        [0.3023, 0.1784, 0.8238]])\n",
            "tensor([[0.5557, 0.9770, 0.4440],\n",
            "        [0.9478, 0.7445, 0.4892]])\n"
          ]
        }
      ]
    },
    {
      "cell_type": "code",
      "source": [
        "# add\n",
        "print(a + b)\n",
        "# sub\n",
        "print(a - b)\n",
        "# mul\n",
        "print(a * b)\n",
        "# div\n",
        "print(a / b)"
      ],
      "metadata": {
        "colab": {
          "base_uri": "https://localhost:8080/"
        },
        "id": "OWSQ0aQOuYiI",
        "outputId": "26fc0fec-ad68-4c24-b47b-89687b0e12aa"
      },
      "execution_count": 43,
      "outputs": [
        {
          "output_type": "stream",
          "name": "stdout",
          "text": [
            "tensor([[1.5526, 1.7335, 0.6679],\n",
            "        [1.2502, 0.9229, 1.3130]])\n",
            "tensor([[ 0.4411, -0.2205, -0.2201],\n",
            "        [-0.6455, -0.5661,  0.3346]])\n",
            "tensor([[0.5540, 0.7391, 0.0994],\n",
            "        [0.2866, 0.1328, 0.4030]])\n",
            "tensor([[1.7938, 0.7743, 0.5042],\n",
            "        [0.3190, 0.2397, 1.6841]])\n"
          ]
        }
      ]
    },
    {
      "cell_type": "code",
      "source": [
        "# abs\n",
        "c = torch.tensor([1, -2, 3, -42])\n",
        "print(torch.abs(c))\n",
        "\n",
        "# negative\n",
        "print(torch.neg(c))\n",
        "\n",
        "# round\n",
        "print(torch.round(torch.tensor([1.2, 1.5, 1.8])))\n",
        "\n",
        "# ceil\n",
        "print(torch.ceil(torch.tensor([1.2, 1.5, 1.8])))\n",
        "\n",
        "# floor\n",
        "print(torch.floor(torch.tensor([1.2, 1.5, 1.8])))\n",
        "\n",
        "# clamp\n",
        "print(torch.clamp(torch.tensor([1, 2, 3, 4, 5]), min = 2, max = 4))"
      ],
      "metadata": {
        "colab": {
          "base_uri": "https://localhost:8080/"
        },
        "id": "h0_e75_fuc3y",
        "outputId": "2ac3b9f7-d9aa-48cc-ccc3-efabfd1407d0"
      },
      "execution_count": 50,
      "outputs": [
        {
          "output_type": "stream",
          "name": "stdout",
          "text": [
            "tensor([ 1,  2,  3, 42])\n",
            "tensor([-1,  2, -3, 42])\n",
            "tensor([1., 2., 2.])\n",
            "tensor([2., 2., 2.])\n",
            "tensor([1., 1., 1.])\n",
            "tensor([2, 2, 3, 4, 4])\n"
          ]
        }
      ]
    },
    {
      "cell_type": "code",
      "source": [
        "# reduction operation\n",
        "\n",
        "x = torch.randint(size = (2, 3), low = 0, high = 10, dtype= torch.float32)\n",
        "print(x)"
      ],
      "metadata": {
        "colab": {
          "base_uri": "https://localhost:8080/"
        },
        "id": "Rfz0dJC6vAoq",
        "outputId": "13551219-2bd3-49c8-ff7f-91edc90de755"
      },
      "execution_count": 58,
      "outputs": [
        {
          "output_type": "stream",
          "name": "stdout",
          "text": [
            "tensor([[5., 7., 5.],\n",
            "        [9., 9., 7.]])\n"
          ]
        }
      ]
    },
    {
      "cell_type": "code",
      "source": [
        "torch.sum(x)"
      ],
      "metadata": {
        "colab": {
          "base_uri": "https://localhost:8080/"
        },
        "id": "hLybeBGDwkoC",
        "outputId": "49c07de8-4568-43a5-c6c0-b1e7438bb6fc"
      },
      "execution_count": 53,
      "outputs": [
        {
          "output_type": "execute_result",
          "data": {
            "text/plain": [
              "tensor(28)"
            ]
          },
          "metadata": {},
          "execution_count": 53
        }
      ]
    },
    {
      "cell_type": "code",
      "source": [
        "torch.sum(x, dim = 0) # column sum\n",
        "torch.sum(x, dim = 1) # row sum\n",
        "\n",
        "# mean\n",
        "print(torch.mean(x))\n",
        "print(torch.mean(x, dim = 0))\n",
        "print(torch.mean(x, dim = 1))\n",
        "\n",
        "# median\n",
        "print(torch.median(x))\n",
        "print(torch.median(x, dim = 0))\n",
        "print(torch.median(x, dim = 1))"
      ],
      "metadata": {
        "colab": {
          "base_uri": "https://localhost:8080/"
        },
        "id": "KTwdW73uwqya",
        "outputId": "7e858c47-e838-4ff5-bf5e-7614d5ba863e"
      },
      "execution_count": 61,
      "outputs": [
        {
          "output_type": "stream",
          "name": "stdout",
          "text": [
            "tensor(7.)\n",
            "tensor([7., 8., 6.])\n",
            "tensor([5.6667, 8.3333])\n",
            "tensor(7.)\n",
            "torch.return_types.median(\n",
            "values=tensor([5., 7., 5.]),\n",
            "indices=tensor([0, 0, 0]))\n",
            "torch.return_types.median(\n",
            "values=tensor([5., 9.]),\n",
            "indices=tensor([2, 0]))\n"
          ]
        }
      ]
    },
    {
      "cell_type": "code",
      "source": [
        "torch.max(x)\n",
        "torch.max(x, dim = 0)\n",
        "torch.max(x, dim = 1)\n",
        "\n",
        "torch.min(x)\n",
        "torch.min(x, dim = 0)\n",
        "torch.min(x, dim = 1)\n",
        "\n",
        "\n",
        "# product of the tensor\n",
        "torch.prod(x)\n",
        "\n",
        "# standard deviation\n",
        "torch.std(x)"
      ],
      "metadata": {
        "colab": {
          "base_uri": "https://localhost:8080/"
        },
        "id": "O594Q23CwzNf",
        "outputId": "46f9b985-ba77-4965-9e9a-078fa6779145"
      },
      "execution_count": 67,
      "outputs": [
        {
          "output_type": "execute_result",
          "data": {
            "text/plain": [
              "tensor(1.7889)"
            ]
          },
          "metadata": {},
          "execution_count": 67
        }
      ]
    },
    {
      "cell_type": "code",
      "source": [
        "# variance\n",
        "torch.var(x)"
      ],
      "metadata": {
        "colab": {
          "base_uri": "https://localhost:8080/"
        },
        "id": "DZuQNu2tx1zV",
        "outputId": "40940f96-6c03-444f-c9de-415406902af5"
      },
      "execution_count": 69,
      "outputs": [
        {
          "output_type": "execute_result",
          "data": {
            "text/plain": [
              "tensor(3.2000)"
            ]
          },
          "metadata": {},
          "execution_count": 69
        }
      ]
    },
    {
      "cell_type": "code",
      "source": [
        "torch.argmax(x)\n",
        "\n",
        "torch.argmin(x)"
      ],
      "metadata": {
        "colab": {
          "base_uri": "https://localhost:8080/"
        },
        "id": "BhtvbIN_yQsS",
        "outputId": "21f67363-9298-43ba-9137-b7c9dae8fdfd"
      },
      "execution_count": 71,
      "outputs": [
        {
          "output_type": "execute_result",
          "data": {
            "text/plain": [
              "tensor(0)"
            ]
          },
          "metadata": {},
          "execution_count": 71
        }
      ]
    },
    {
      "cell_type": "code",
      "source": [
        "# Matrix Operations\n",
        "\n",
        "e = torch.randint(size = (2, 3), low=0, high=10)\n",
        "f = torch.randint(size = (3, 2), low=0, high=10)\n",
        "print(e)\n",
        "print(f)"
      ],
      "metadata": {
        "colab": {
          "base_uri": "https://localhost:8080/"
        },
        "id": "VqaaHMiCyZ6w",
        "outputId": "ec52640f-f44b-4b56-ec51-ca9d27184261"
      },
      "execution_count": 72,
      "outputs": [
        {
          "output_type": "stream",
          "name": "stdout",
          "text": [
            "tensor([[5, 9, 8],\n",
            "        [9, 7, 9]])\n",
            "tensor([[2, 6],\n",
            "        [7, 7],\n",
            "        [8, 3]])\n"
          ]
        }
      ]
    },
    {
      "cell_type": "code",
      "source": [
        "# matrix multiplication\n",
        "torch.mm(e, f)"
      ],
      "metadata": {
        "colab": {
          "base_uri": "https://localhost:8080/"
        },
        "id": "D3yUs3TzyxqM",
        "outputId": "45b6061e-9f1c-4e44-ca01-227026ef003b"
      },
      "execution_count": 75,
      "outputs": [
        {
          "output_type": "execute_result",
          "data": {
            "text/plain": [
              "tensor([[137, 117],\n",
              "        [139, 130]])"
            ]
          },
          "metadata": {},
          "execution_count": 75
        }
      ]
    },
    {
      "cell_type": "code",
      "source": [
        "# dot product\n",
        "v1 = torch.tensor([1, 2, 3])\n",
        "v2 = torch.tensor([4, 5, 6])\n",
        "torch.dot(v1, v2)"
      ],
      "metadata": {
        "colab": {
          "base_uri": "https://localhost:8080/"
        },
        "id": "cAXdxTUEy77o",
        "outputId": "6ca679aa-f16d-4a19-e1f2-8da77921a5d6"
      },
      "execution_count": 76,
      "outputs": [
        {
          "output_type": "execute_result",
          "data": {
            "text/plain": [
              "tensor(32)"
            ]
          },
          "metadata": {},
          "execution_count": 76
        }
      ]
    },
    {
      "cell_type": "code",
      "source": [
        "print(e)\n",
        "\n",
        "# transpose\n",
        "torch.transpose(e, 0, 1)"
      ],
      "metadata": {
        "colab": {
          "base_uri": "https://localhost:8080/"
        },
        "id": "an8RsbMXzKVi",
        "outputId": "652eba39-a858-4b38-fbb9-c4587ef172b5"
      },
      "execution_count": 78,
      "outputs": [
        {
          "output_type": "stream",
          "name": "stdout",
          "text": [
            "tensor([[5, 9, 8],\n",
            "        [9, 7, 9]])\n"
          ]
        },
        {
          "output_type": "execute_result",
          "data": {
            "text/plain": [
              "tensor([[5, 9],\n",
              "        [9, 7],\n",
              "        [8, 9]])"
            ]
          },
          "metadata": {},
          "execution_count": 78
        }
      ]
    },
    {
      "cell_type": "code",
      "source": [],
      "metadata": {
        "id": "84aQb8ql0EtV"
      },
      "execution_count": null,
      "outputs": []
    },
    {
      "cell_type": "code",
      "source": [
        "g = torch.randint(size = (3, 3), low=0, high=10, dtype = torch.float32)\n",
        "print(g)\n",
        "\n",
        "# determinant [for square matrix]\n",
        "print(torch.det(g))\n",
        "\n",
        "# inverse [for square matrix]\n",
        "print(torch.inverse(g))"
      ],
      "metadata": {
        "colab": {
          "base_uri": "https://localhost:8080/"
        },
        "id": "nZwGK7LVzWLx",
        "outputId": "facf2671-e5a2-4dea-d1d3-3ac7ec650798"
      },
      "execution_count": 85,
      "outputs": [
        {
          "output_type": "stream",
          "name": "stdout",
          "text": [
            "tensor([[6., 6., 8.],\n",
            "        [4., 9., 0.],\n",
            "        [7., 9., 2.]])\n",
            "tensor(-156.)\n",
            "tensor([[-0.1154, -0.3846,  0.4615],\n",
            "        [ 0.0513,  0.2821, -0.2051],\n",
            "        [ 0.1731,  0.0769, -0.1923]])\n"
          ]
        }
      ]
    },
    {
      "cell_type": "code",
      "source": [
        "# comparison operations\n",
        "\n",
        "i = torch.randint(size = (2, 3), low=0, high=10)\n",
        "j = torch.randint(size = (2, 3), low=0, high=10)\n",
        "print(i)\n",
        "print(j)"
      ],
      "metadata": {
        "colab": {
          "base_uri": "https://localhost:8080/"
        },
        "id": "1IHOJXQ-zfu5",
        "outputId": "42fcae48-1919-408d-f729-95f9fb2b8c8a"
      },
      "execution_count": 91,
      "outputs": [
        {
          "output_type": "stream",
          "name": "stdout",
          "text": [
            "tensor([[2, 3, 7],\n",
            "        [0, 2, 5]])\n",
            "tensor([[2, 8, 0],\n",
            "        [2, 5, 3]])\n"
          ]
        }
      ]
    },
    {
      "cell_type": "code",
      "source": [
        "# comparisons\n",
        "\n",
        "i >= j\n",
        "\n",
        "i <= j\n",
        "\n",
        "i == j\n",
        "\n",
        "i != j"
      ],
      "metadata": {
        "colab": {
          "base_uri": "https://localhost:8080/"
        },
        "id": "TNQ7EBlq093J",
        "outputId": "4d825588-4ad3-4771-b886-2990ddc7b38d"
      },
      "execution_count": 94,
      "outputs": [
        {
          "output_type": "execute_result",
          "data": {
            "text/plain": [
              "tensor([[False,  True,  True],\n",
              "        [ True,  True,  True]])"
            ]
          },
          "metadata": {},
          "execution_count": 94
        }
      ]
    },
    {
      "cell_type": "code",
      "source": [
        "k = torch.randint(size = (2, 3), low=0, high=10, dtype=torch.float32)\n",
        "print(k)"
      ],
      "metadata": {
        "colab": {
          "base_uri": "https://localhost:8080/"
        },
        "id": "VeXlwK-q1JhN",
        "outputId": "3b579b51-ef7a-4f86-a41b-2fe49dc1cb90"
      },
      "execution_count": 104,
      "outputs": [
        {
          "output_type": "stream",
          "name": "stdout",
          "text": [
            "tensor([[2., 7., 9.],\n",
            "        [3., 9., 7.]])\n"
          ]
        }
      ]
    },
    {
      "cell_type": "code",
      "source": [
        "# log\n",
        "print(torch.log(k))\n",
        "\n",
        "# exponent\n",
        "print(torch.exp(k))\n",
        "\n",
        "# sqrt\n",
        "print(torch.sqrt(k))\n",
        "\n",
        "# sigmoid\n",
        "print(torch.sigmoid(k))\n",
        "\n",
        "# softmax\n",
        "print(torch.softmax(k, dim=0))\n",
        "\n",
        "# relu\n",
        "print(torch.relu(k))"
      ],
      "metadata": {
        "colab": {
          "base_uri": "https://localhost:8080/"
        },
        "id": "Me0J779A1hBQ",
        "outputId": "5693ec18-ab7a-4230-f068-da2416c72d7d"
      },
      "execution_count": 106,
      "outputs": [
        {
          "output_type": "stream",
          "name": "stdout",
          "text": [
            "tensor([[0.6931, 1.9459, 2.1972],\n",
            "        [1.0986, 2.1972, 1.9459]])\n",
            "tensor([[7.3891e+00, 1.0966e+03, 8.1031e+03],\n",
            "        [2.0086e+01, 8.1031e+03, 1.0966e+03]])\n",
            "tensor([[1.4142, 2.6458, 3.0000],\n",
            "        [1.7321, 3.0000, 2.6458]])\n",
            "tensor([[0.8808, 0.9991, 0.9999],\n",
            "        [0.9526, 0.9999, 0.9991]])\n",
            "tensor([[0.2689, 0.1192, 0.8808],\n",
            "        [0.7311, 0.8808, 0.1192]])\n",
            "tensor([[2., 7., 9.],\n",
            "        [3., 9., 7.]])\n"
          ]
        }
      ]
    },
    {
      "cell_type": "code",
      "source": [
        "# Inplace Operations\n",
        "\n",
        "m = torch.rand(2, 3)\n",
        "n = torch.rand(2, 3)\n",
        "\n",
        "print(m)\n",
        "print(n)"
      ],
      "metadata": {
        "colab": {
          "base_uri": "https://localhost:8080/"
        },
        "id": "EJvLDPBh1kYk",
        "outputId": "9415a66d-7734-4f13-e7af-2e2fdcaa146b"
      },
      "execution_count": 108,
      "outputs": [
        {
          "output_type": "stream",
          "name": "stdout",
          "text": [
            "tensor([[0.4947, 0.3617, 0.9687],\n",
            "        [0.0359, 0.3041, 0.9867]])\n",
            "tensor([[0.1290, 0.6887, 0.1637],\n",
            "        [0.0899, 0.3139, 0.1219]])\n"
          ]
        }
      ]
    },
    {
      "cell_type": "code",
      "source": [
        "m.add_(n)"
      ],
      "metadata": {
        "colab": {
          "base_uri": "https://localhost:8080/"
        },
        "id": "JdRj90Vb22Id",
        "outputId": "1697104f-aa0d-470b-be20-abb13c53aa93"
      },
      "execution_count": 109,
      "outputs": [
        {
          "output_type": "execute_result",
          "data": {
            "text/plain": [
              "tensor([[0.6237, 1.0504, 1.1323],\n",
              "        [0.1258, 0.6180, 1.1086]])"
            ]
          },
          "metadata": {},
          "execution_count": 109
        }
      ]
    },
    {
      "cell_type": "code",
      "source": [
        "m"
      ],
      "metadata": {
        "colab": {
          "base_uri": "https://localhost:8080/"
        },
        "id": "NuG6ED-I29WC",
        "outputId": "34e13dd0-948f-47be-f46c-02f7b8f2c419"
      },
      "execution_count": 110,
      "outputs": [
        {
          "output_type": "execute_result",
          "data": {
            "text/plain": [
              "tensor([[0.6237, 1.0504, 1.1323],\n",
              "        [0.1258, 0.6180, 1.1086]])"
            ]
          },
          "metadata": {},
          "execution_count": 110
        }
      ]
    },
    {
      "cell_type": "code",
      "source": [
        "m.relu_()"
      ],
      "metadata": {
        "colab": {
          "base_uri": "https://localhost:8080/"
        },
        "id": "85aD78N82_SF",
        "outputId": "5c7bc0d5-cdfb-4baf-f38f-24407a5e185d"
      },
      "execution_count": 111,
      "outputs": [
        {
          "output_type": "execute_result",
          "data": {
            "text/plain": [
              "tensor([[0.6237, 1.0504, 1.1323],\n",
              "        [0.1258, 0.6180, 1.1086]])"
            ]
          },
          "metadata": {},
          "execution_count": 111
        }
      ]
    },
    {
      "cell_type": "code",
      "source": [
        "# copying a tensor\n",
        "a = torch.rand(2, 3)\n",
        "a"
      ],
      "metadata": {
        "colab": {
          "base_uri": "https://localhost:8080/"
        },
        "id": "GyAeh7Ld3Q6W",
        "outputId": "3bb38f01-50cb-4b74-dd70-6211e82e3b23"
      },
      "execution_count": 112,
      "outputs": [
        {
          "output_type": "execute_result",
          "data": {
            "text/plain": [
              "tensor([[0.3516, 0.2316, 0.2847],\n",
              "        [0.3520, 0.2828, 0.2420]])"
            ]
          },
          "metadata": {},
          "execution_count": 112
        }
      ]
    },
    {
      "cell_type": "code",
      "source": [
        "b = a\n",
        "b"
      ],
      "metadata": {
        "colab": {
          "base_uri": "https://localhost:8080/"
        },
        "id": "gsPYJjif3ck5",
        "outputId": "6c21fbe7-fb4b-4f87-d769-73319d0ee7c5"
      },
      "execution_count": 115,
      "outputs": [
        {
          "output_type": "execute_result",
          "data": {
            "text/plain": [
              "tensor([[0.3516, 0.2316, 0.2847],\n",
              "        [0.3520, 0.2828, 0.2420]])"
            ]
          },
          "metadata": {},
          "execution_count": 115
        }
      ]
    },
    {
      "cell_type": "code",
      "source": [
        "id(a) == id(b) # same memory location"
      ],
      "metadata": {
        "colab": {
          "base_uri": "https://localhost:8080/"
        },
        "id": "X4QbrPpx3d08",
        "outputId": "f088697e-5751-4dfd-a1a5-70ea1d44a4dc"
      },
      "execution_count": 119,
      "outputs": [
        {
          "output_type": "execute_result",
          "data": {
            "text/plain": [
              "True"
            ]
          },
          "metadata": {},
          "execution_count": 119
        }
      ]
    },
    {
      "cell_type": "code",
      "source": [
        "b = a.clone()"
      ],
      "metadata": {
        "id": "50cdj52b36qF"
      },
      "execution_count": 120,
      "outputs": []
    },
    {
      "cell_type": "code",
      "source": [
        "id(a) == id(b) # after cloning different memory locations"
      ],
      "metadata": {
        "colab": {
          "base_uri": "https://localhost:8080/"
        },
        "id": "J44-B9xT4H7v",
        "outputId": "caf94266-46de-4d44-dba5-043a493c9238"
      },
      "execution_count": 122,
      "outputs": [
        {
          "output_type": "execute_result",
          "data": {
            "text/plain": [
              "False"
            ]
          },
          "metadata": {},
          "execution_count": 122
        }
      ]
    },
    {
      "cell_type": "code",
      "source": [
        "# Tensor operations on GPU\n",
        "\n",
        "torch.cuda.is_available()"
      ],
      "metadata": {
        "colab": {
          "base_uri": "https://localhost:8080/"
        },
        "id": "W9IQBCdo4LU9",
        "outputId": "dc13e3e7-3e40-4799-dfe2-9281cb969f66"
      },
      "execution_count": 123,
      "outputs": [
        {
          "output_type": "execute_result",
          "data": {
            "text/plain": [
              "True"
            ]
          },
          "metadata": {},
          "execution_count": 123
        }
      ]
    },
    {
      "cell_type": "code",
      "source": [
        "device = torch.device('cuda')"
      ],
      "metadata": {
        "id": "vjQrggn_4idj"
      },
      "execution_count": 124,
      "outputs": []
    },
    {
      "cell_type": "code",
      "source": [
        "# creating tensor on GPU\n",
        "\n",
        "torch.rand((2, 3), device=device)"
      ],
      "metadata": {
        "colab": {
          "base_uri": "https://localhost:8080/"
        },
        "id": "flkVM88t4nHN",
        "outputId": "824f297b-66cd-44e7-930c-4dfc02b965e3"
      },
      "execution_count": 126,
      "outputs": [
        {
          "output_type": "execute_result",
          "data": {
            "text/plain": [
              "tensor([[0.3563, 0.0303, 0.7088],\n",
              "        [0.2009, 0.0224, 0.9896]], device='cuda:0')"
            ]
          },
          "metadata": {},
          "execution_count": 126
        }
      ]
    },
    {
      "cell_type": "code",
      "source": [
        "# moving existing tensor to GPU\n",
        "\n",
        "b = a.to(device)"
      ],
      "metadata": {
        "colab": {
          "base_uri": "https://localhost:8080/"
        },
        "id": "s7QJ4tRp4q_N",
        "outputId": "6c45b346-c16e-442e-f009-46b6ca5da57d"
      },
      "execution_count": 128,
      "outputs": [
        {
          "output_type": "execute_result",
          "data": {
            "text/plain": [
              "tensor([[0.3516, 0.2316, 0.2847],\n",
              "        [0.3520, 0.2828, 0.2420]], device='cuda:0')"
            ]
          },
          "metadata": {},
          "execution_count": 128
        }
      ]
    },
    {
      "cell_type": "code",
      "source": [
        "b + 5"
      ],
      "metadata": {
        "colab": {
          "base_uri": "https://localhost:8080/"
        },
        "id": "I6KIReKJ4-Nz",
        "outputId": "d28b343b-dfdf-4cef-84ad-21f10dfcc548"
      },
      "execution_count": 129,
      "outputs": [
        {
          "output_type": "execute_result",
          "data": {
            "text/plain": [
              "tensor([[5.3516, 5.2316, 5.2847],\n",
              "        [5.3520, 5.2828, 5.2420]])"
            ]
          },
          "metadata": {},
          "execution_count": 129
        }
      ]
    },
    {
      "cell_type": "code",
      "source": [
        "import time\n",
        "\n",
        "size = 10000\n",
        "\n",
        "matrix_cpu1 = torch.rand(size, size)\n",
        "matrix_cpu2 = torch.rand(size, size)\n",
        "\n",
        "start_time = time.time()\n",
        "result_cpu = torch.matmul(matrix_cpu1, matrix_cpu2)\n",
        "end_time = time.time()\n",
        "\n",
        "print(f\"CPU time: {end_time - start_time}\")\n",
        "\n",
        "matrix_gpu1 = matrix_cpu1.to(device)\n",
        "matrix_gpu2 = matrix_cpu2.to(device)\n",
        "\n",
        "start_time = time.time()\n",
        "result_gpu = torch.matmul(matrix_gpu1, matrix_gpu2)\n",
        "torch.cuda.synchronize()\n",
        "end_time = time.time()\n",
        "\n",
        "print(f\"GPU time: {end_time - start_time}\")"
      ],
      "metadata": {
        "colab": {
          "base_uri": "https://localhost:8080/"
        },
        "id": "Rt87URgs5Jxq",
        "outputId": "a4a2f619-2192-441e-c1d1-67324764997a"
      },
      "execution_count": 130,
      "outputs": [
        {
          "output_type": "stream",
          "name": "stdout",
          "text": [
            "CPU time: 24.24071717262268\n",
            "GPU time: 0.6816599369049072\n"
          ]
        }
      ]
    },
    {
      "cell_type": "code",
      "source": [
        "# Reshaping Tensors\n",
        "\n",
        "a = torch.eye(4, 4)\n",
        "a"
      ],
      "metadata": {
        "colab": {
          "base_uri": "https://localhost:8080/"
        },
        "id": "3QXUwOLN5860",
        "outputId": "8af1260f-84f6-4764-c350-1aa5c8322dc1"
      },
      "execution_count": 134,
      "outputs": [
        {
          "output_type": "execute_result",
          "data": {
            "text/plain": [
              "tensor([[1., 0., 0., 0.],\n",
              "        [0., 1., 0., 0.],\n",
              "        [0., 0., 1., 0.],\n",
              "        [0., 0., 0., 1.]])"
            ]
          },
          "metadata": {},
          "execution_count": 134
        }
      ]
    },
    {
      "cell_type": "code",
      "source": [
        "a.reshape(2, 2, 2, 2)"
      ],
      "metadata": {
        "colab": {
          "base_uri": "https://localhost:8080/"
        },
        "id": "7eCv7vZJ6VzT",
        "outputId": "275bb011-d068-4ac7-a0f2-9e4d7703b804"
      },
      "execution_count": 135,
      "outputs": [
        {
          "output_type": "execute_result",
          "data": {
            "text/plain": [
              "tensor([[[[1., 0.],\n",
              "          [0., 0.]],\n",
              "\n",
              "         [[0., 1.],\n",
              "          [0., 0.]]],\n",
              "\n",
              "\n",
              "        [[[0., 0.],\n",
              "          [1., 0.]],\n",
              "\n",
              "         [[0., 0.],\n",
              "          [0., 1.]]]])"
            ]
          },
          "metadata": {},
          "execution_count": 135
        }
      ]
    },
    {
      "cell_type": "code",
      "source": [
        "# flatten\n",
        "\n",
        "a.flatten()"
      ],
      "metadata": {
        "colab": {
          "base_uri": "https://localhost:8080/"
        },
        "id": "eU7tR2n_6eps",
        "outputId": "15251465-0e27-4cdd-fce2-b8a17112d037"
      },
      "execution_count": 136,
      "outputs": [
        {
          "output_type": "execute_result",
          "data": {
            "text/plain": [
              "tensor([1., 0., 0., 0., 0., 1., 0., 0., 0., 0., 1., 0., 0., 0., 0., 1.])"
            ]
          },
          "metadata": {},
          "execution_count": 136
        }
      ]
    },
    {
      "cell_type": "code",
      "source": [
        "# permute\n",
        "\n",
        "b = torch.rand(2, 3, 4)\n",
        "b"
      ],
      "metadata": {
        "colab": {
          "base_uri": "https://localhost:8080/"
        },
        "id": "NPj_9BFk6nw9",
        "outputId": "becf9264-870d-46f4-98d9-55df0e731268"
      },
      "execution_count": 137,
      "outputs": [
        {
          "output_type": "execute_result",
          "data": {
            "text/plain": [
              "tensor([[[0.8673, 0.1561, 0.3627, 0.4080],\n",
              "         [0.0238, 0.9556, 0.0546, 0.9876],\n",
              "         [0.7779, 0.1610, 0.0409, 0.2777]],\n",
              "\n",
              "        [[0.5977, 0.7007, 0.1637, 0.3872],\n",
              "         [0.8402, 0.1092, 0.4046, 0.3539],\n",
              "         [0.5803, 0.0621, 0.3397, 0.2102]]])"
            ]
          },
          "metadata": {},
          "execution_count": 137
        }
      ]
    },
    {
      "cell_type": "code",
      "source": [
        "b.permute(2, 0, 1)"
      ],
      "metadata": {
        "colab": {
          "base_uri": "https://localhost:8080/"
        },
        "id": "Wvq9nDj16yCn",
        "outputId": "f2c9a313-3088-4724-d8a7-26c94a589c16"
      },
      "execution_count": 138,
      "outputs": [
        {
          "output_type": "execute_result",
          "data": {
            "text/plain": [
              "tensor([[[0.8673, 0.0238, 0.7779],\n",
              "         [0.5977, 0.8402, 0.5803]],\n",
              "\n",
              "        [[0.1561, 0.9556, 0.1610],\n",
              "         [0.7007, 0.1092, 0.0621]],\n",
              "\n",
              "        [[0.3627, 0.0546, 0.0409],\n",
              "         [0.1637, 0.4046, 0.3397]],\n",
              "\n",
              "        [[0.4080, 0.9876, 0.2777],\n",
              "         [0.3872, 0.3539, 0.2102]]])"
            ]
          },
          "metadata": {},
          "execution_count": 138
        }
      ]
    },
    {
      "cell_type": "code",
      "source": [
        "# unsqueeze\n",
        "\n",
        "# image size\n",
        "c = torch.rand(226, 226, 3)\n",
        "c.unsqueeze(1).shape"
      ],
      "metadata": {
        "colab": {
          "base_uri": "https://localhost:8080/"
        },
        "id": "eSXWeLAB6_wo",
        "outputId": "6569926a-b1a6-4233-a50a-82f63d289822"
      },
      "execution_count": 140,
      "outputs": [
        {
          "output_type": "execute_result",
          "data": {
            "text/plain": [
              "torch.Size([226, 1, 226, 3])"
            ]
          },
          "metadata": {},
          "execution_count": 140
        }
      ]
    },
    {
      "cell_type": "code",
      "source": [
        "# squeeze\n",
        "d = torch.rand(1, 20)\n",
        "d\n",
        "d.squeeze(0)"
      ],
      "metadata": {
        "colab": {
          "base_uri": "https://localhost:8080/"
        },
        "id": "pd6CqwxE7cOK",
        "outputId": "5e27d257-a90c-471d-cfa2-d7905d0eb4aa"
      },
      "execution_count": 146,
      "outputs": [
        {
          "output_type": "execute_result",
          "data": {
            "text/plain": [
              "tensor([0.9009, 0.5502, 0.7036, 0.8452, 0.8943, 0.0686, 0.8604, 0.7327, 0.6850,\n",
              "        0.1864, 0.6581, 0.2685, 0.0825, 0.2583, 0.0634, 0.4233, 0.7368, 0.1632,\n",
              "        0.0485, 0.6772])"
            ]
          },
          "metadata": {},
          "execution_count": 146
        }
      ]
    },
    {
      "cell_type": "code",
      "source": [
        "# numpy and pytorch\n",
        "import numpy as np"
      ],
      "metadata": {
        "id": "5k6VR01w7uCC"
      },
      "execution_count": 1,
      "outputs": []
    },
    {
      "cell_type": "code",
      "source": [],
      "metadata": {
        "id": "lWYy0wK9iKZZ"
      },
      "execution_count": null,
      "outputs": []
    }
  ]
}