{
 "cells": [
  {
   "cell_type": "code",
   "execution_count": null,
   "id": "fbfe7061-700d-4bbe-9939-1b6fd7ac1de2",
   "metadata": {},
   "outputs": [
    {
     "name": "stdout",
     "output_type": "stream",
     "text": [
      "Hello World\n"
     ]
    }
   ],
   "source": [
    "\n",
    "print(\"Hello World\") "
   ]
  },
  {
   "cell_type": "code",
   "execution_count": 64,
   "id": "26c0e323-5453-45b3-a165-fe2e724fb172",
   "metadata": {},
   "outputs": [],
   "source": [
    "import numpy as np"
   ]
  },
  {
   "cell_type": "code",
   "execution_count": 20,
   "id": "64997765-faf4-4cda-9309-79a4dbcb576f",
   "metadata": {},
   "outputs": [
    {
     "data": {
      "text/plain": [
       "(4,)"
      ]
     },
     "execution_count": 20,
     "metadata": {},
     "output_type": "execute_result"
    }
   ],
   "source": [
    "arr1 = np.array([1, 4, 5, 6])\n",
    "arr1.shape"
   ]
  },
  {
   "cell_type": "code",
   "execution_count": 7,
   "id": "1069a574-44b4-41a9-863f-39bed8e4454a",
   "metadata": {},
   "outputs": [
    {
     "data": {
      "text/plain": [
       "array([[2, 4, 5, 6],\n",
       "       [6, 7, 7, 8]])"
      ]
     },
     "execution_count": 7,
     "metadata": {},
     "output_type": "execute_result"
    }
   ],
   "source": [
    "arr2 = np.array([[2, 4, 5, 6], [6, 7, 7, 8]])\n",
    "arr2"
   ]
  },
  {
   "cell_type": "code",
   "execution_count": 8,
   "id": "bb6a87d4-49fd-4574-89e8-c8a351f2980b",
   "metadata": {},
   "outputs": [
    {
     "data": {
      "text/plain": [
       "array([[0., 0., 0.],\n",
       "       [0., 0., 0.]])"
      ]
     },
     "execution_count": 8,
     "metadata": {},
     "output_type": "execute_result"
    }
   ],
   "source": [
    "arr3 = np.zeros((2, 3))\n",
    "arr3"
   ]
  },
  {
   "cell_type": "code",
   "execution_count": 9,
   "id": "55cfbe85-d422-41a3-81c1-4a8821953bc2",
   "metadata": {},
   "outputs": [],
   "source": [
    "arr4 = np.ones((4, 4))"
   ]
  },
  {
   "cell_type": "code",
   "execution_count": 10,
   "id": "2385e816-d9d0-4d91-b097-fe54d1875536",
   "metadata": {},
   "outputs": [
    {
     "data": {
      "text/plain": [
       "array([[1., 1., 1., 1.],\n",
       "       [1., 1., 1., 1.],\n",
       "       [1., 1., 1., 1.],\n",
       "       [1., 1., 1., 1.]])"
      ]
     },
     "execution_count": 10,
     "metadata": {},
     "output_type": "execute_result"
    }
   ],
   "source": [
    "arr4"
   ]
  },
  {
   "cell_type": "code",
   "execution_count": 11,
   "id": "2fac9042-d22b-4999-9e6c-b99024fd3b1f",
   "metadata": {},
   "outputs": [
    {
     "data": {
      "text/plain": [
       "array([[1., 0., 0., 0., 0., 0.],\n",
       "       [0., 1., 0., 0., 0., 0.],\n",
       "       [0., 0., 1., 0., 0., 0.],\n",
       "       [0., 0., 0., 1., 0., 0.],\n",
       "       [0., 0., 0., 0., 1., 0.],\n",
       "       [0., 0., 0., 0., 0., 1.]])"
      ]
     },
     "execution_count": 11,
     "metadata": {},
     "output_type": "execute_result"
    }
   ],
   "source": [
    "arr5 = np.identity(6)\n",
    "arr5"
   ]
  },
  {
   "cell_type": "code",
   "execution_count": 12,
   "id": "a60334bc-a34a-45ed-88e9-bc6cc55ed7f5",
   "metadata": {},
   "outputs": [
    {
     "data": {
      "text/plain": [
       "array([0, 1, 2, 3, 4, 5, 6, 7, 8, 9])"
      ]
     },
     "execution_count": 12,
     "metadata": {},
     "output_type": "execute_result"
    }
   ],
   "source": [
    "arr6 = np.arange(10)\n",
    "arr6"
   ]
  },
  {
   "cell_type": "code",
   "execution_count": 13,
   "id": "08be2673-a86c-4bd6-b0e6-b1b446a9a47c",
   "metadata": {},
   "outputs": [
    {
     "data": {
      "text/plain": [
       "array([ 4,  5,  6,  7,  8,  9, 10, 11, 12, 13, 14, 15, 16, 17, 18, 19, 20,\n",
       "       21, 22, 23, 24, 25, 26, 27, 28])"
      ]
     },
     "execution_count": 13,
     "metadata": {},
     "output_type": "execute_result"
    }
   ],
   "source": [
    "arr7 = np.arange(4, 29)\n",
    "arr7"
   ]
  },
  {
   "cell_type": "code",
   "execution_count": 14,
   "id": "5b860234-3390-43de-9d93-d7f1522fe488",
   "metadata": {},
   "outputs": [
    {
     "data": {
      "text/plain": [
       "array([ 4,  9, 14, 19, 24])"
      ]
     },
     "execution_count": 14,
     "metadata": {},
     "output_type": "execute_result"
    }
   ],
   "source": [
    "arr8 = np.arange(4, 29, 5)\n",
    "arr8"
   ]
  },
  {
   "cell_type": "code",
   "execution_count": 15,
   "id": "d2c31ee3-7b39-4621-84b5-9d891f7eeb18",
   "metadata": {},
   "outputs": [
    {
     "data": {
      "text/plain": [
       "array([10.        , 11.11111111, 12.22222222, 13.33333333, 14.44444444,\n",
       "       15.55555556, 16.66666667, 17.77777778, 18.88888889, 20.        ])"
      ]
     },
     "execution_count": 15,
     "metadata": {},
     "output_type": "execute_result"
    }
   ],
   "source": [
    "arr9 = np.linspace(10, 20, 10)\n",
    "arr9"
   ]
  },
  {
   "cell_type": "code",
   "execution_count": 16,
   "id": "785efbb7-34ad-4228-bee7-4694c3930edc",
   "metadata": {},
   "outputs": [
    {
     "data": {
      "text/plain": [
       "array([10.        , 11.11111111, 12.22222222, 13.33333333, 14.44444444,\n",
       "       15.55555556, 16.66666667, 17.77777778, 18.88888889, 20.        ])"
      ]
     },
     "execution_count": 16,
     "metadata": {},
     "output_type": "execute_result"
    }
   ],
   "source": [
    "arr10 = arr9.copy()\n",
    "arr10"
   ]
  },
  {
   "cell_type": "code",
   "execution_count": 21,
   "id": "45565528-3c01-473c-a6e0-5a4fbb22d28a",
   "metadata": {},
   "outputs": [
    {
     "data": {
      "text/plain": [
       "array([[[ 1,  2],\n",
       "        [ 3,  5]],\n",
       "\n",
       "       [[ 5,  6],\n",
       "        [ 7,  8]],\n",
       "\n",
       "       [[35, 67],\n",
       "        [ 5, 44]]])"
      ]
     },
     "execution_count": 21,
     "metadata": {},
     "output_type": "execute_result"
    }
   ],
   "source": [
    "arr9 = np.array([ [ [1, 2], [3, 5] ], [ [5, 6], [7, 8] ], [ [35, 67], [5, 44] ] ])\n",
    "arr9"
   ]
  },
  {
   "cell_type": "code",
   "execution_count": 22,
   "id": "b426db16-4cbe-4589-972f-ec7769f21961",
   "metadata": {},
   "outputs": [
    {
     "data": {
      "text/plain": [
       "(3, 2, 2)"
      ]
     },
     "execution_count": 22,
     "metadata": {},
     "output_type": "execute_result"
    }
   ],
   "source": [
    "arr9.shape"
   ]
  },
  {
   "cell_type": "code",
   "execution_count": 23,
   "id": "00faec98-81d6-4667-a01c-37c1e2e56f05",
   "metadata": {},
   "outputs": [
    {
     "data": {
      "text/plain": [
       "3"
      ]
     },
     "execution_count": 23,
     "metadata": {},
     "output_type": "execute_result"
    }
   ],
   "source": [
    "arr9.ndim"
   ]
  },
  {
   "cell_type": "code",
   "execution_count": 24,
   "id": "22c3f3f5-8301-4f04-8063-11802b0d25ff",
   "metadata": {},
   "outputs": [
    {
     "data": {
      "text/plain": [
       "2"
      ]
     },
     "execution_count": 24,
     "metadata": {},
     "output_type": "execute_result"
    }
   ],
   "source": [
    "arr4.ndim"
   ]
  },
  {
   "cell_type": "code",
   "execution_count": 25,
   "id": "f56cd8d6-b579-4ba5-9f0f-a31129c338f1",
   "metadata": {},
   "outputs": [
    {
     "data": {
      "text/plain": [
       "(4, 4)"
      ]
     },
     "execution_count": 25,
     "metadata": {},
     "output_type": "execute_result"
    }
   ],
   "source": [
    "arr4.shape"
   ]
  },
  {
   "cell_type": "code",
   "execution_count": 26,
   "id": "3cc8433d-8dd9-4934-8651-4e81714984a4",
   "metadata": {},
   "outputs": [
    {
     "data": {
      "text/plain": [
       "12"
      ]
     },
     "execution_count": 26,
     "metadata": {},
     "output_type": "execute_result"
    }
   ],
   "source": [
    "arr9.size"
   ]
  },
  {
   "cell_type": "code",
   "execution_count": 27,
   "id": "ca27aeb9-0c45-4cda-a2fc-d322d3192fe7",
   "metadata": {},
   "outputs": [
    {
     "data": {
      "text/plain": [
       "4"
      ]
     },
     "execution_count": 27,
     "metadata": {},
     "output_type": "execute_result"
    }
   ],
   "source": [
    "arr9.itemsize # datatype siize (integer -> 4 bytes, float -> 8 bytes) "
   ]
  },
  {
   "cell_type": "code",
   "execution_count": 28,
   "id": "80547ff2-3824-46cf-8b99-bd478aae4af7",
   "metadata": {},
   "outputs": [
    {
     "data": {
      "text/plain": [
       "dtype('int32')"
      ]
     },
     "execution_count": 28,
     "metadata": {},
     "output_type": "execute_result"
    }
   ],
   "source": [
    "arr9.dtype"
   ]
  },
  {
   "cell_type": "code",
   "execution_count": 29,
   "id": "f741ae6b-c47c-4e33-9295-8e7e24e725ef",
   "metadata": {},
   "outputs": [
    {
     "data": {
      "text/plain": [
       "array([[[ 1.,  2.],\n",
       "        [ 3.,  5.]],\n",
       "\n",
       "       [[ 5.,  6.],\n",
       "        [ 7.,  8.]],\n",
       "\n",
       "       [[35., 67.],\n",
       "        [ 5., 44.]]])"
      ]
     },
     "execution_count": 29,
     "metadata": {},
     "output_type": "execute_result"
    }
   ],
   "source": [
    "arr9.astype('float')"
   ]
  },
  {
   "cell_type": "code",
   "execution_count": 30,
   "id": "7d5c5af9-5e4a-4886-8e34-25abd04a98d1",
   "metadata": {},
   "outputs": [],
   "source": [
    "lista = range(100)\n",
    "arr = np.arange(100)"
   ]
  },
  {
   "cell_type": "code",
   "execution_count": 31,
   "id": "4db46964-4dc9-4e0e-8f12-ebfd1d87ee38",
   "metadata": {},
   "outputs": [],
   "source": [
    "import sys"
   ]
  },
  {
   "cell_type": "code",
   "execution_count": 32,
   "id": "81e8e47b-dfc7-40ba-8408-a2753a488ba0",
   "metadata": {},
   "outputs": [
    {
     "name": "stdout",
     "output_type": "stream",
     "text": [
      "2800\n"
     ]
    }
   ],
   "source": [
    "print(sys.getsizeof(87) * len(lista))"
   ]
  },
  {
   "cell_type": "code",
   "execution_count": 33,
   "id": "c474c8c9-d720-4c39-9941-bbc78740cae9",
   "metadata": {},
   "outputs": [
    {
     "name": "stdout",
     "output_type": "stream",
     "text": [
      "2800\n"
     ]
    }
   ],
   "source": [
    "print(sys.getsizeof(87) * len(arr))"
   ]
  },
  {
   "cell_type": "code",
   "execution_count": 36,
   "id": "889073f7-991b-4dc0-a2d0-df50d58bf661",
   "metadata": {},
   "outputs": [
    {
     "name": "stdout",
     "output_type": "stream",
     "text": [
      "400\n"
     ]
    }
   ],
   "source": [
    "print(arr.itemsize * arr.size)"
   ]
  },
  {
   "cell_type": "code",
   "execution_count": 37,
   "id": "3d36b889-a87e-4540-981e-2e763d87457e",
   "metadata": {},
   "outputs": [],
   "source": [
    "import time"
   ]
  },
  {
   "cell_type": "code",
   "execution_count": 40,
   "id": "36b22467-59e9-4430-b9d0-d1105cfdad13",
   "metadata": {},
   "outputs": [
    {
     "name": "stdout",
     "output_type": "stream",
     "text": [
      "1.602813959121704\n"
     ]
    }
   ],
   "source": [
    "x = range(10000000)\n",
    "y = range(10000000, 20000000)\n",
    "\n",
    "start_time = time.time()\n",
    "c = [x + y for x,y in zip(x, y)]\n",
    "\n",
    "print(time.time() - start_time)\n"
   ]
  },
  {
   "cell_type": "code",
   "execution_count": 43,
   "id": "d0b2b0df-e99f-49bb-91d0-efe2cbee540a",
   "metadata": {},
   "outputs": [
    {
     "name": "stdout",
     "output_type": "stream",
     "text": [
      "0.2175590991973877\n"
     ]
    }
   ],
   "source": [
    "a = np.arange(100000000)\n",
    "b = np.arange(100000000, 200000000)\n",
    "\n",
    "start_time = time.time()\n",
    "c = a + b\n",
    "\n",
    "print(time.time() - start_time)"
   ]
  },
  {
   "cell_type": "code",
   "execution_count": 55,
   "id": "7e17fcac-79b1-482a-bf26-70c6621b04eb",
   "metadata": {},
   "outputs": [
    {
     "data": {
      "text/plain": [
       "array([[ 0,  1,  2,  3],\n",
       "       [ 4,  5,  6,  7],\n",
       "       [ 8,  9, 10, 11],\n",
       "       [12, 13, 14, 15],\n",
       "       [16, 17, 18, 19],\n",
       "       [20, 21, 22, 23]])"
      ]
     },
     "execution_count": 55,
     "metadata": {},
     "output_type": "execute_result"
    }
   ],
   "source": [
    "arr12 = np.arange(24).reshape(6, 4)\n",
    "arr12"
   ]
  },
  {
   "cell_type": "code",
   "execution_count": 50,
   "id": "b7c2e2db-9d7c-4860-8d81-37ea1396b20d",
   "metadata": {},
   "outputs": [
    {
     "data": {
      "text/plain": [
       "6"
      ]
     },
     "execution_count": 50,
     "metadata": {},
     "output_type": "execute_result"
    }
   ],
   "source": [
    "arr1[-1]"
   ]
  },
  {
   "cell_type": "code",
   "execution_count": 51,
   "id": "29a23030-857a-41f9-ab35-71f1fee212b6",
   "metadata": {},
   "outputs": [
    {
     "data": {
      "text/plain": [
       "array([16, 17, 18, 19, 20, 21, 22, 23])"
      ]
     },
     "execution_count": 51,
     "metadata": {},
     "output_type": "execute_result"
    }
   ],
   "source": [
    "arr12[2]"
   ]
  },
  {
   "cell_type": "code",
   "execution_count": 61,
   "id": "b4ee2f79-bb99-4a2c-9202-226fafc44c32",
   "metadata": {},
   "outputs": [
    {
     "data": {
      "text/plain": [
       "array([[18, 19],\n",
       "       [22, 23]])"
      ]
     },
     "execution_count": 61,
     "metadata": {},
     "output_type": "execute_result"
    }
   ],
   "source": [
    "# SLICING \n",
    "# print 3rd column of arr12 \n",
    "arr12[:, 2]\n",
    "\n",
    "# print 2nd and 3rd column \n",
    "arr12[:, 2:4]\n",
    "\n",
    "# extract 9, 10, 13, 14 \n",
    "arr12[2:4, 1:3]\n",
    "\n",
    "# extract 18, 19, 22, 23\n",
    "arr12[4:, 2:] "
   ]
  },
  {
   "cell_type": "code",
   "execution_count": 62,
   "id": "181014d5-9f4e-47dd-ad07-4384852bdcf7",
   "metadata": {},
   "outputs": [
    {
     "name": "stdout",
     "output_type": "stream",
     "text": [
      "[0 1 2 3]\n",
      "[4 5 6 7]\n",
      "[ 8  9 10 11]\n",
      "[12 13 14 15]\n",
      "[16 17 18 19]\n",
      "[20 21 22 23]\n"
     ]
    }
   ],
   "source": [
    "# iteration\n",
    "for i in arr12:\n",
    "    print(i)"
   ]
  },
  {
   "cell_type": "code",
   "execution_count": 63,
   "id": "25d1dc4b-3215-42bd-b9e6-defa1a78900e",
   "metadata": {},
   "outputs": [
    {
     "name": "stdout",
     "output_type": "stream",
     "text": [
      "0\n",
      "1\n",
      "2\n",
      "3\n",
      "4\n",
      "5\n",
      "6\n",
      "7\n",
      "8\n",
      "9\n",
      "10\n",
      "11\n",
      "12\n",
      "13\n",
      "14\n",
      "15\n",
      "16\n",
      "17\n",
      "18\n",
      "19\n",
      "20\n",
      "21\n",
      "22\n",
      "23\n"
     ]
    }
   ],
   "source": [
    "for i in np.nditer(arr12):\n",
    "    print(i)"
   ]
  },
  {
   "cell_type": "code",
   "execution_count": 72,
   "id": "8e83b238-11e5-4130-b98b-328fa4c9d37b",
   "metadata": {},
   "outputs": [
    {
     "name": "stdout",
     "output_type": "stream",
     "text": [
      "[-3 -3 -3 -3 -3 -3]\n",
      "[ 4 10 18 28 40 54]\n",
      "[ 2  4  6  8 10 12]\n",
      "[False False False  True  True  True]\n"
     ]
    }
   ],
   "source": [
    "# OPERATIONS\n",
    "\n",
    "arr1 = np.array([1, 2, 3, 4, 5, 6])\n",
    "arr2 = np.array([4, 5, 6, 7, 8, 9])\n",
    "# Element wise operations \n",
    "print(arr1 - arr2)\n",
    "print(arr1 * arr2) # vector multiplication \n",
    "print(arr1 * 2)    # scalar multiplication \n",
    "print(arr1 > 3)"
   ]
  },
  {
   "cell_type": "code",
   "execution_count": 76,
   "id": "9ad7df95-80d5-4ef2-b74f-b56d80857cf2",
   "metadata": {},
   "outputs": [],
   "source": [
    "arr3 = np.arange(6).reshape(2, 3)\n",
    "arr4 = np.arange(6, 12).reshape(3, 2)"
   ]
  },
  {
   "cell_type": "code",
   "execution_count": 79,
   "id": "2de68356-9a05-4aca-bf89-aa23f41aacbe",
   "metadata": {},
   "outputs": [
    {
     "data": {
      "text/plain": [
       "array([[ 28,  31],\n",
       "       [100, 112]])"
      ]
     },
     "execution_count": 79,
     "metadata": {},
     "output_type": "execute_result"
    }
   ],
   "source": [
    "arr3.dot(arr4) # 3*2 * 2*3 => 2*2 matrix"
   ]
  },
  {
   "cell_type": "code",
   "execution_count": 80,
   "id": "3f636821-e25e-40f1-ba7e-cf9e784d467b",
   "metadata": {},
   "outputs": [
    {
     "data": {
      "text/plain": [
       "154"
      ]
     },
     "execution_count": 80,
     "metadata": {},
     "output_type": "execute_result"
    }
   ],
   "source": [
    "arr1.dot(arr2)"
   ]
  },
  {
   "cell_type": "code",
   "execution_count": 84,
   "id": "143477f4-c5f3-4f8b-aa9d-8b4e2dabf898",
   "metadata": {},
   "outputs": [
    {
     "data": {
      "text/plain": [
       "array([[ 6,  7],\n",
       "       [ 8,  9],\n",
       "       [10, 11]])"
      ]
     },
     "execution_count": 84,
     "metadata": {},
     "output_type": "execute_result"
    }
   ],
   "source": [
    "arr4"
   ]
  },
  {
   "cell_type": "code",
   "execution_count": 86,
   "id": "206566c0-121f-4e3d-8982-cfef81c48cd6",
   "metadata": {},
   "outputs": [
    {
     "data": {
      "text/plain": [
       "6"
      ]
     },
     "execution_count": 86,
     "metadata": {},
     "output_type": "execute_result"
    }
   ],
   "source": [
    "arr4.max()\n",
    "arr4.min()"
   ]
  },
  {
   "cell_type": "code",
   "execution_count": 89,
   "id": "31ecd870-ce2d-408c-9cb7-47f097d7e0c9",
   "metadata": {},
   "outputs": [
    {
     "data": {
      "text/plain": [
       "array([6, 7])"
      ]
     },
     "execution_count": 89,
     "metadata": {},
     "output_type": "execute_result"
    }
   ],
   "source": [
    "# column wise max and min\n",
    "arr4.max(axis = 0)\n",
    "arr4.min(axis = 0)"
   ]
  },
  {
   "cell_type": "code",
   "execution_count": 91,
   "id": "1f82620d-5f4b-4b30-b602-970eff46e541",
   "metadata": {},
   "outputs": [
    {
     "data": {
      "text/plain": [
       "array([ 6,  8, 10])"
      ]
     },
     "execution_count": 91,
     "metadata": {},
     "output_type": "execute_result"
    }
   ],
   "source": [
    "# row wise max and min\n",
    "arr4.max(axis = 1)\n",
    "arr4.min(axis = 1)"
   ]
  },
  {
   "cell_type": "code",
   "execution_count": 92,
   "id": "7db0b8af-85c1-492a-b1f2-5d36662f2056",
   "metadata": {},
   "outputs": [
    {
     "data": {
      "text/plain": [
       "51"
      ]
     },
     "execution_count": 92,
     "metadata": {},
     "output_type": "execute_result"
    }
   ],
   "source": [
    "# sum of every element of the arr\n",
    "arr4.sum()"
   ]
  },
  {
   "cell_type": "code",
   "execution_count": 94,
   "id": "51f8a574-123d-4274-b408-229b8d92618d",
   "metadata": {},
   "outputs": [
    {
     "data": {
      "text/plain": [
       "array([13, 17, 21])"
      ]
     },
     "execution_count": 94,
     "metadata": {},
     "output_type": "execute_result"
    }
   ],
   "source": [
    "# column wise sum \n",
    "arr4.sum(axis = 0)\n",
    "\n",
    "# row wise sum \n",
    "arr4.sum(axis = 1)"
   ]
  },
  {
   "cell_type": "code",
   "execution_count": 97,
   "id": "18d7065c-5c96-4ce4-aefe-3568116afb38",
   "metadata": {},
   "outputs": [
    {
     "data": {
      "text/plain": [
       "array([ 6.5,  8.5, 10.5])"
      ]
     },
     "execution_count": 97,
     "metadata": {},
     "output_type": "execute_result"
    }
   ],
   "source": [
    "arr4.mean()\n",
    "arr4.mean(axis = 0)\n",
    "arr4.mean(axis = 1)"
   ]
  },
  {
   "cell_type": "code",
   "execution_count": 98,
   "id": "4364bdb6-e584-4611-95e2-54dc9dcc1300",
   "metadata": {},
   "outputs": [
    {
     "data": {
      "text/plain": [
       "1.707825127659933"
      ]
     },
     "execution_count": 98,
     "metadata": {},
     "output_type": "execute_result"
    }
   ],
   "source": [
    "# standard deviation\n",
    "arr4.std()"
   ]
  },
  {
   "cell_type": "code",
   "execution_count": 99,
   "id": "c3ff1488-5c55-4f37-8ccf-d25253b6bdbd",
   "metadata": {},
   "outputs": [
    {
     "data": {
      "text/plain": [
       "array([[-0.2794155 ,  0.6569866 ],\n",
       "       [ 0.98935825,  0.41211849],\n",
       "       [-0.54402111, -0.99999021]])"
      ]
     },
     "execution_count": 99,
     "metadata": {},
     "output_type": "execute_result"
    }
   ],
   "source": [
    "np.sin(arr4)"
   ]
  },
  {
   "cell_type": "code",
   "execution_count": 100,
   "id": "8a4c14f8-4a1f-424d-8338-7952883f3897",
   "metadata": {},
   "outputs": [
    {
     "data": {
      "text/plain": [
       "8.5"
      ]
     },
     "execution_count": 100,
     "metadata": {},
     "output_type": "execute_result"
    }
   ],
   "source": [
    "np.median(arr4)"
   ]
  },
  {
   "cell_type": "code",
   "execution_count": 101,
   "id": "5f619bc7-b6be-473d-aa6c-c48bfcf57e4e",
   "metadata": {},
   "outputs": [
    {
     "data": {
      "text/plain": [
       "array([[  403.42879349,  1096.63315843],\n",
       "       [ 2980.95798704,  8103.08392758],\n",
       "       [22026.46579481, 59874.1417152 ]])"
      ]
     },
     "execution_count": 101,
     "metadata": {},
     "output_type": "execute_result"
    }
   ],
   "source": [
    "np.exp(arr4)"
   ]
  },
  {
   "cell_type": "code",
   "execution_count": 110,
   "id": "088db59e-f612-4bb9-b7fe-b541c9b3ded0",
   "metadata": {},
   "outputs": [
    {
     "data": {
      "text/plain": [
       "array([ 6,  7,  8,  9, 10, 11])"
      ]
     },
     "execution_count": 110,
     "metadata": {},
     "output_type": "execute_result"
    }
   ],
   "source": [
    "# RESHAPING NUMPY ARRAYS \n",
    "\n",
    "# RAVEL \n",
    "arr4.ndim # 2\n",
    "arr4.ravel()  # converts n-dim array to 1-dim"
   ]
  },
  {
   "cell_type": "code",
   "execution_count": 111,
   "id": "24d25476-7d8f-4ab8-bfbd-68136a0fde2b",
   "metadata": {},
   "outputs": [
    {
     "data": {
      "text/plain": [
       "array([[ 6,  8, 10],\n",
       "       [ 7,  9, 11]])"
      ]
     },
     "execution_count": 111,
     "metadata": {},
     "output_type": "execute_result"
    }
   ],
   "source": [
    "# transpose \n",
    "arr4.transpose()"
   ]
  },
  {
   "cell_type": "code",
   "execution_count": 113,
   "id": "3ee90622-75a5-4813-8937-9db1f066a802",
   "metadata": {},
   "outputs": [
    {
     "data": {
      "text/plain": [
       "array([[12, 13, 14],\n",
       "       [15, 16, 17]])"
      ]
     },
     "execution_count": 113,
     "metadata": {},
     "output_type": "execute_result"
    }
   ],
   "source": [
    "arr5 = np.arange(12, 18).reshape(2, 3)\n",
    "arr5"
   ]
  },
  {
   "cell_type": "code",
   "execution_count": 119,
   "id": "1cebd55b-1a38-4652-bb1a-538b9c0e40c7",
   "metadata": {},
   "outputs": [
    {
     "data": {
      "text/plain": [
       "array([[ 6,  8, 10, 12, 13, 14],\n",
       "       [ 7,  9, 11, 15, 16, 17]])"
      ]
     },
     "execution_count": 119,
     "metadata": {},
     "output_type": "execute_result"
    }
   ],
   "source": [
    "# stacking => combining 2 arrays\n",
    "\n",
    "# horizontal \n",
    "np.hstack((arr4.transpose(), arr5)) "
   ]
  },
  {
   "cell_type": "code",
   "execution_count": 120,
   "id": "0921607b-4466-4c54-899d-5bf754ab7b32",
   "metadata": {},
   "outputs": [
    {
     "data": {
      "text/plain": [
       "array([[ 6,  8, 10],\n",
       "       [ 7,  9, 11],\n",
       "       [12, 13, 14],\n",
       "       [15, 16, 17]])"
      ]
     },
     "execution_count": 120,
     "metadata": {},
     "output_type": "execute_result"
    }
   ],
   "source": [
    "# vertical \n",
    "np.vstack((arr4.transpose(), arr5))"
   ]
  },
  {
   "cell_type": "code",
   "execution_count": 122,
   "id": "cc63da50-73af-4cc5-a91d-4a760321b45a",
   "metadata": {},
   "outputs": [
    {
     "data": {
      "text/plain": [
       "[array([[12],\n",
       "        [15]]),\n",
       " array([[13],\n",
       "        [16]]),\n",
       " array([[14],\n",
       "        [17]])]"
      ]
     },
     "execution_count": 122,
     "metadata": {},
     "output_type": "execute_result"
    }
   ],
   "source": [
    "# splitting\n",
    "np.hsplit(arr5, 3)"
   ]
  },
  {
   "cell_type": "code",
   "execution_count": 124,
   "id": "8440f447-a89c-471c-bbde-b0198ef72190",
   "metadata": {},
   "outputs": [
    {
     "data": {
      "text/plain": [
       "[array([[12, 13, 14]]), array([[15, 16, 17]])]"
      ]
     },
     "execution_count": 124,
     "metadata": {},
     "output_type": "execute_result"
    }
   ],
   "source": [
    "np.vsplit(arr5, 2)"
   ]
  },
  {
   "cell_type": "code",
   "execution_count": 126,
   "id": "900c63f9-5817-4662-9bfe-f309978cfa15",
   "metadata": {},
   "outputs": [
    {
     "data": {
      "text/plain": [
       "array([[ 0,  1,  2,  3],\n",
       "       [ 4,  5,  6,  7],\n",
       "       [ 8,  9, 10, 11],\n",
       "       [12, 13, 14, 15],\n",
       "       [16, 17, 18, 19],\n",
       "       [20, 21, 22, 23]])"
      ]
     },
     "execution_count": 126,
     "metadata": {},
     "output_type": "execute_result"
    }
   ],
   "source": [
    "# fancy indexing \n",
    "arr8 = np.arange(24).reshape(6, 4)\n",
    "arr8"
   ]
  },
  {
   "cell_type": "code",
   "execution_count": 127,
   "id": "b304ecc0-023c-4b07-abbd-925e2e161272",
   "metadata": {},
   "outputs": [
    {
     "data": {
      "text/plain": [
       "array([[ 0,  1,  2,  3],\n",
       "       [ 8,  9, 10, 11],\n",
       "       [16, 17, 18, 19]])"
      ]
     },
     "execution_count": 127,
     "metadata": {},
     "output_type": "execute_result"
    }
   ],
   "source": [
    "# indexing 1st, 3rd, 5th row\n",
    "arr8[[0, 2, 4]]"
   ]
  },
  {
   "cell_type": "code",
   "execution_count": 128,
   "id": "25301ec7-e970-4ab3-985f-753fd7997d31",
   "metadata": {},
   "outputs": [
    {
     "data": {
      "text/plain": [
       "array([[47, 83, 21, 71, 81],\n",
       "       [26, 19, 63, 23,  6],\n",
       "       [63, 21, 11, 43, 34],\n",
       "       [20,  4, 22, 37, 84]])"
      ]
     },
     "execution_count": 128,
     "metadata": {},
     "output_type": "execute_result"
    }
   ],
   "source": [
    "# indexing with boolean array\n",
    "arr = np.random.randint(low = 1, high = 100, size = 20).reshape(4, 5)\n",
    "arr"
   ]
  },
  {
   "cell_type": "code",
   "execution_count": 133,
   "id": "f1dfaaf5-cb57-4018-9007-0d9addcf279f",
   "metadata": {},
   "outputs": [
    {
     "data": {
      "text/plain": [
       "array([[False,  True, False,  True,  True],\n",
       "       [False, False,  True, False, False],\n",
       "       [ True, False, False, False, False],\n",
       "       [False, False, False, False,  True]])"
      ]
     },
     "execution_count": 133,
     "metadata": {},
     "output_type": "execute_result"
    }
   ],
   "source": [
    "arr>50  "
   ]
  },
  {
   "cell_type": "code",
   "execution_count": 134,
   "id": "9f6a7037-9bca-43b3-a571-3f34b8c24e23",
   "metadata": {},
   "outputs": [
    {
     "data": {
      "text/plain": [
       "array([83, 71, 81, 63, 63, 84])"
      ]
     },
     "execution_count": 134,
     "metadata": {},
     "output_type": "execute_result"
    }
   ],
   "source": [
    "# filtering the array with only elements > 50\n",
    "\n",
    "# indexing using boolean arrays\n",
    "arr[arr>50]"
   ]
  },
  {
   "cell_type": "code",
   "execution_count": 136,
   "id": "af3d3e93-e230-4ad2-8954-a71a4537839c",
   "metadata": {},
   "outputs": [
    {
     "data": {
      "text/plain": [
       "array([83, 71, 81, 63, 63])"
      ]
     },
     "execution_count": 136,
     "metadata": {},
     "output_type": "execute_result"
    }
   ],
   "source": [
    "# elements > 50 and odd\n",
    "arr[(arr > 50) & (arr % 2 != 0)]"
   ]
  },
  {
   "cell_type": "code",
   "execution_count": 138,
   "id": "38b74bfc-6395-4844-9715-c54ab0020e1d",
   "metadata": {},
   "outputs": [
    {
     "data": {
      "text/plain": [
       "array([[47,  0, 21,  0,  0],\n",
       "       [26, 19,  0, 23,  6],\n",
       "       [ 0, 21, 11, 43, 34],\n",
       "       [20,  4, 22, 37, 84]])"
      ]
     },
     "execution_count": 138,
     "metadata": {},
     "output_type": "execute_result"
    }
   ],
   "source": [
    "# convert elements > 50 and odd to 0\n",
    "arr[(arr > 50) & (arr % 2 != 0)] = 0\n",
    "arr"
   ]
  },
  {
   "cell_type": "code",
   "execution_count": 158,
   "id": "7b04e3cd-701f-4228-b5cf-3af40489d1c7",
   "metadata": {},
   "outputs": [
    {
     "data": {
      "text/plain": [
       "array([-40.        , -39.19191919, -38.38383838, -37.57575758,\n",
       "       -36.76767677, -35.95959596, -35.15151515, -34.34343434,\n",
       "       -33.53535354, -32.72727273, -31.91919192, -31.11111111,\n",
       "       -30.3030303 , -29.49494949, -28.68686869, -27.87878788,\n",
       "       -27.07070707, -26.26262626, -25.45454545, -24.64646465,\n",
       "       -23.83838384, -23.03030303, -22.22222222, -21.41414141,\n",
       "       -20.60606061, -19.7979798 , -18.98989899, -18.18181818,\n",
       "       -17.37373737, -16.56565657, -15.75757576, -14.94949495,\n",
       "       -14.14141414, -13.33333333, -12.52525253, -11.71717172,\n",
       "       -10.90909091, -10.1010101 ,  -9.29292929,  -8.48484848,\n",
       "        -7.67676768,  -6.86868687,  -6.06060606,  -5.25252525,\n",
       "        -4.44444444,  -3.63636364,  -2.82828283,  -2.02020202,\n",
       "        -1.21212121,  -0.4040404 ,   0.4040404 ,   1.21212121,\n",
       "         2.02020202,   2.82828283,   3.63636364,   4.44444444,\n",
       "         5.25252525,   6.06060606,   6.86868687,   7.67676768,\n",
       "         8.48484848,   9.29292929,  10.1010101 ,  10.90909091,\n",
       "        11.71717172,  12.52525253,  13.33333333,  14.14141414,\n",
       "        14.94949495,  15.75757576,  16.56565657,  17.37373737,\n",
       "        18.18181818,  18.98989899,  19.7979798 ,  20.60606061,\n",
       "        21.41414141,  22.22222222,  23.03030303,  23.83838384,\n",
       "        24.64646465,  25.45454545,  26.26262626,  27.07070707,\n",
       "        27.87878788,  28.68686869,  29.49494949,  30.3030303 ,\n",
       "        31.11111111,  31.91919192,  32.72727273,  33.53535354,\n",
       "        34.34343434,  35.15151515,  35.95959596,  36.76767677,\n",
       "        37.57575758,  38.38383838,  39.19191919,  40.        ])"
      ]
     },
     "execution_count": 158,
     "metadata": {},
     "output_type": "execute_result"
    }
   ],
   "source": [
    "x = np.linspace(-40, 40, 100)\n",
    "x"
   ]
  },
  {
   "cell_type": "code",
   "execution_count": 159,
   "id": "d467ecd0-0614-4684-bf20-114e76f77a10",
   "metadata": {},
   "outputs": [
    {
     "data": {
      "text/plain": [
       "array([-0.74511316, -0.9969604 , -0.63246122,  0.12304167,  0.80247705,\n",
       "        0.98580059,  0.55967698, -0.21245326, -0.85323945, -0.96653119,\n",
       "       -0.48228862,  0.30011711,  0.89698277,  0.93931073,  0.40093277,\n",
       "       -0.38531209, -0.93334716, -0.90436313, -0.31627868,  0.46733734,\n",
       "        0.96203346,  0.86197589,  0.22902277, -0.54551809, -0.9828057 ,\n",
       "       -0.81249769, -0.13988282,  0.61921119,  0.995493  ,  0.75633557,\n",
       "        0.04959214, -0.68781042, -0.99999098, -0.69395153,  0.0411065 ,\n",
       "        0.75075145,  0.99626264,  0.62585878, -0.13146699, -0.8075165 ,\n",
       "       -0.98433866, -0.55261747,  0.22074597,  0.85763861,  0.96431712,\n",
       "        0.47483011, -0.30820902, -0.90070545, -0.93636273, -0.39313661,\n",
       "        0.39313661,  0.93636273,  0.90070545,  0.30820902, -0.47483011,\n",
       "       -0.96431712, -0.85763861, -0.22074597,  0.55261747,  0.98433866,\n",
       "        0.8075165 ,  0.13146699, -0.62585878, -0.99626264, -0.75075145,\n",
       "       -0.0411065 ,  0.69395153,  0.99999098,  0.68781042, -0.04959214,\n",
       "       -0.75633557, -0.995493  , -0.61921119,  0.13988282,  0.81249769,\n",
       "        0.9828057 ,  0.54551809, -0.22902277, -0.86197589, -0.96203346,\n",
       "       -0.46733734,  0.31627868,  0.90436313,  0.93334716,  0.38531209,\n",
       "       -0.40093277, -0.93931073, -0.89698277, -0.30011711,  0.48228862,\n",
       "        0.96653119,  0.85323945,  0.21245326, -0.55967698, -0.98580059,\n",
       "       -0.80247705, -0.12304167,  0.63246122,  0.9969604 ,  0.74511316])"
      ]
     },
     "execution_count": 159,
     "metadata": {},
     "output_type": "execute_result"
    }
   ],
   "source": [
    "y = np.sin(x)\n",
    "y"
   ]
  },
  {
   "cell_type": "code",
   "execution_count": 160,
   "id": "630f3085-f5ce-40dc-9779-1db30a7447ae",
   "metadata": {},
   "outputs": [
    {
     "data": {
      "image/png": "[encoded data removed]",
      "text/plain": [
       "<Figure size 640x480 with 1 Axes>"
      ]
     },
     "metadata": {},
     "output_type": "display_data"
    }
   ],
   "source": [
    "import matplotlib.pyplot as plt\n",
    "%matplotlib inline\n",
    "\n",
    "plt.plot(x, y)\n",
    "plt.title(\"Simple Line Plot\")\n",
    "plt.xlabel(\"x-axis\")\n",
    "plt.ylabel(\"y-axis\")\n",
    "plt.grid(True)\n",
    "plt.show()\n",
    "\n",
    "# sin graph "
   ]
  },
  {
   "cell_type": "code",
   "execution_count": 164,
   "id": "c24feaac-c6b7-4333-a4a9-739e2850d07b",
   "metadata": {},
   "outputs": [
    {
     "data": {
      "text/plain": [
       "array([1526.        , 1463.62269156, 1402.55137231, 1342.78604224,\n",
       "       1284.32670136, 1227.17334966, 1171.32598714, 1116.78461381,\n",
       "       1063.54922967, 1011.61983471,  960.99642894,  911.67901235,\n",
       "        863.66758494,  816.96214672,  771.56269768,  727.46923783,\n",
       "        684.68176717,  643.20028569,  603.02479339,  564.15529028,\n",
       "        526.59177635,  490.33425161,  455.38271605,  421.73716968,\n",
       "        389.39761249,  358.36404449,  328.63646567,  300.21487603,\n",
       "        273.09927558,  247.28966432,  222.78604224,  199.58840935,\n",
       "        177.69676564,  157.11111111,  137.83144577,  119.85776962,\n",
       "        103.19008264,   87.82838486,   73.77267626,   61.02295684,\n",
       "         49.57922661,   39.44148556,   30.6097337 ,   23.08397102,\n",
       "         16.86419753,   11.95041322,    8.3426181 ,    6.04081216,\n",
       "          5.04499541,    5.35516784,    6.97132946,    9.89348026,\n",
       "         14.12162024,   19.65574941,   26.49586777,   34.64197531,\n",
       "         44.09407203,   54.85215794,   66.91623304,   80.28629732,\n",
       "         94.96235078,  110.94439343,  128.23242526,  146.82644628,\n",
       "        166.72645648,  187.93245587,  210.44444444,  234.2624222 ,\n",
       "        259.38638914,  285.81634527,  313.55229058,  342.59422508,\n",
       "        372.94214876,  404.59606163,  437.55596368,  471.82185491,\n",
       "        507.39373533,  544.27160494,  582.45546373,  621.9453117 ,\n",
       "        662.74114886,  704.84297521,  748.25079074,  792.96459545,\n",
       "        838.98438935,  886.31017243,  934.9419447 ,  984.87970615,\n",
       "       1036.12345679, 1088.67319661, 1142.52892562, 1197.69064381,\n",
       "       1254.15835119, 1311.93204775, 1371.0117335 , 1431.39740843,\n",
       "       1493.08907254, 1556.08672584, 1620.39036833, 1686.        ])"
      ]
     },
     "execution_count": 164,
     "metadata": {},
     "output_type": "execute_result"
    }
   ],
   "source": [
    "y = x*x + 2*x + 6\n",
    "y"
   ]
  },
  {
   "cell_type": "code",
   "execution_count": 163,
   "id": "08b32389-55cf-4fa4-8265-669bf3ea5074",
   "metadata": {},
   "outputs": [
    {
     "data": {
      "image/png": "[encoded data removed]",
      "text/plain": [
       "<Figure size 640x480 with 1 Axes>"
      ]
     },
     "metadata": {},
     "output_type": "display_data"
    }
   ],
   "source": [
    "plt.plot(x, y)\n",
    "plt.show()\n",
    "\n",
    "# parabola => quadratic eqtn"
   ]
  },
  {
   "cell_type": "code",
   "execution_count": 165,
   "id": "8115820b-dec6-41d6-a726-d6b5ddebc144",
   "metadata": {},
   "outputs": [
    {
     "name": "stdout",
     "output_type": "stream",
     "text": [
      "[[0 1 2 3]\n",
      " [4 5 6 7]]\n",
      "[[ 8  9 10 11]\n",
      " [12 13 14 15]]\n"
     ]
    }
   ],
   "source": [
    "# Scenario - I\n",
    "\n",
    "a1 = np.arange(8).reshape(2, 4)\n",
    "a2 = np.arange(8, 16).reshape(2, 4)\n",
    "\n",
    "print(a1)\n",
    "print(a2)"
   ]
  },
  {
   "cell_type": "code",
   "execution_count": 166,
   "id": "f25feba4-7ee9-45c1-a264-20f77fc06b97",
   "metadata": {},
   "outputs": [
    {
     "data": {
      "text/plain": [
       "array([[ 8, 10, 12, 14],\n",
       "       [16, 18, 20, 22]])"
      ]
     },
     "execution_count": 166,
     "metadata": {},
     "output_type": "execute_result"
    }
   ],
   "source": [
    "a1 + a2 # element wise addition "
   ]
  },
  {
   "cell_type": "code",
   "execution_count": 168,
   "id": "24ce5d47-df9d-43c9-ab54-263386f08b5e",
   "metadata": {},
   "outputs": [
    {
     "name": "stdout",
     "output_type": "stream",
     "text": [
      "[[0 1 2]\n",
      " [3 4 5]\n",
      " [6 7 8]] [[0 1 2]]\n"
     ]
    }
   ],
   "source": [
    "a3 = np.arange(9).reshape(3, 3)\n",
    "a4 = np.arange(3).reshape(1, 3)\n",
    "\n",
    "print(a3, a4)"
   ]
  },
  {
   "cell_type": "code",
   "execution_count": 170,
   "id": "b801b688-ce8e-413c-ba9d-aa1ff9dbc12b",
   "metadata": {},
   "outputs": [
    {
     "data": {
      "text/plain": [
       "array([[ 0,  1,  4],\n",
       "       [ 0,  4, 10],\n",
       "       [ 0,  7, 16]])"
      ]
     },
     "execution_count": 170,
     "metadata": {},
     "output_type": "execute_result"
    }
   ],
   "source": [
    "# Broadcasting: \n",
    "# Ability of numpy to perform arithmatic operations in dissimilar arrays\n",
    "a3 + a4\n",
    "a3 * a4"
   ]
  },
  {
   "cell_type": "code",
   "execution_count": 174,
   "id": "913b4694-5f51-436f-9cd0-7d9c1fe75b5e",
   "metadata": {},
   "outputs": [
    {
     "data": {
      "text/plain": [
       "0.378235323728525"
      ]
     },
     "execution_count": 174,
     "metadata": {},
     "output_type": "execute_result"
    }
   ],
   "source": [
    "# various operations\n",
    "np.random.random()"
   ]
  },
  {
   "cell_type": "code",
   "execution_count": 178,
   "id": "9845c678-f022-41ce-8986-ec521472cbc0",
   "metadata": {},
   "outputs": [
    {
     "data": {
      "text/plain": [
       "0.417022004702574"
      ]
     },
     "execution_count": 178,
     "metadata": {},
     "output_type": "execute_result"
    }
   ],
   "source": [
    "# repeat the random value more than one\n",
    "np.random.seed(1)\n",
    "np.random.random()"
   ]
  },
  {
   "cell_type": "code",
   "execution_count": 181,
   "id": "d4631393-27ef-4650-bc9b-063706860381",
   "metadata": {},
   "outputs": [
    {
     "data": {
      "text/plain": [
       "5.116328008422879"
      ]
     },
     "execution_count": 181,
     "metadata": {},
     "output_type": "execute_result"
    }
   ],
   "source": [
    "# random value within a given range\n",
    "np.random.uniform(3, 10)"
   ]
  },
  {
   "cell_type": "code",
   "execution_count": 184,
   "id": "eac42075-f6bc-4fc2-b3ce-fdf04931cc29",
   "metadata": {},
   "outputs": [
    {
     "data": {
      "text/plain": [
       "array([[87.76252608, 89.56605969],\n",
       "       [ 9.41937693,  4.86642354],\n",
       "       [17.81321154, 87.93610784],\n",
       "       [10.73633655, 42.68965488],\n",
       "       [95.83106348, 53.78336321]])"
      ]
     },
     "execution_count": 184,
     "metadata": {},
     "output_type": "execute_result"
    }
   ],
   "source": [
    "np.random.uniform(1, 100, 10).reshape(5, 2)"
   ]
  },
  {
   "cell_type": "code",
   "execution_count": 191,
   "id": "ecf3a3b2-0993-4462-9316-441e1dbb80c9",
   "metadata": {},
   "outputs": [
    {
     "data": {
      "text/plain": [
       "array([[4, 8, 8],\n",
       "       [5, 6, 4]])"
      ]
     },
     "execution_count": 191,
     "metadata": {},
     "output_type": "execute_result"
    }
   ],
   "source": [
    "np.random.randint(1, 10, 6).reshape(2, 3)"
   ]
  },
  {
   "cell_type": "code",
   "execution_count": 193,
   "id": "21526732-dd1f-42a1-82a8-191dcd2d0067",
   "metadata": {},
   "outputs": [
    {
     "data": {
      "text/plain": [
       "array([8, 4, 1, 9, 8, 8])"
      ]
     },
     "execution_count": 193,
     "metadata": {},
     "output_type": "execute_result"
    }
   ],
   "source": [
    "a = np.random.randint(1, 10, 6)\n",
    "a"
   ]
  },
  {
   "cell_type": "code",
   "execution_count": 197,
   "id": "c16ea883-6d6f-43b9-8bc0-3c6cf3bdb578",
   "metadata": {},
   "outputs": [
    {
     "data": {
      "text/plain": [
       "2"
      ]
     },
     "execution_count": 197,
     "metadata": {},
     "output_type": "execute_result"
    }
   ],
   "source": [
    "np.max(a)\n",
    "np.min(a)\n",
    "np.argmax(a) # index of the max value\n",
    "np.argmin(a) # index of the min value"
   ]
  },
  {
   "cell_type": "code",
   "execution_count": 198,
   "id": "ca8bee6c-3243-4240-a59f-aaf2643b416f",
   "metadata": {},
   "outputs": [
    {
     "data": {
      "text/plain": [
       "array([2, 2, 4, 1, 9, 7])"
      ]
     },
     "execution_count": 198,
     "metadata": {},
     "output_type": "execute_result"
    }
   ],
   "source": [
    "a = np.random.randint(1, 10, 6)\n",
    "a"
   ]
  },
  {
   "cell_type": "code",
   "execution_count": 200,
   "id": "ec72c454-e345-494d-83b4-b49562deb7db",
   "metadata": {},
   "outputs": [
    {
     "data": {
      "text/plain": [
       "array([ 2,  2,  4, -1, -1, -1])"
      ]
     },
     "execution_count": 200,
     "metadata": {},
     "output_type": "execute_result"
    }
   ],
   "source": [
    "# replace odd values with -1\n",
    "a[a % 2 != 0] = -1\n",
    "a"
   ]
  },
  {
   "cell_type": "code",
   "execution_count": 202,
   "id": "43c47189-8df9-4605-9afa-4a6dc33a92f7",
   "metadata": {},
   "outputs": [
    {
     "data": {
      "text/plain": [
       "array([14,  9, 12, 13, 44, 21])"
      ]
     },
     "execution_count": 202,
     "metadata": {},
     "output_type": "execute_result"
    }
   ],
   "source": [
    "a = np.random.randint(1, 50, 6)\n",
    "a"
   ]
  },
  {
   "cell_type": "code",
   "execution_count": 204,
   "id": "bd2b9186-90ec-4b53-9b0c-480d26a902d0",
   "metadata": {},
   "outputs": [
    {
     "data": {
      "text/plain": [
       "array([14, -1, 12, -1, 44, -1])"
      ]
     },
     "execution_count": 204,
     "metadata": {},
     "output_type": "execute_result"
    }
   ],
   "source": [
    "np.where(a%2 != 0, -1, a)"
   ]
  },
  {
   "cell_type": "code",
   "execution_count": 205,
   "id": "b7d45ae2-728b-4fa9-a0b2-a073fb7a0ec7",
   "metadata": {},
   "outputs": [
    {
     "data": {
      "text/plain": [
       "array([31, 37, 40,  8, 46,  5, 49, 19, 33, 14])"
      ]
     },
     "execution_count": 205,
     "metadata": {},
     "output_type": "execute_result"
    }
   ],
   "source": [
    "a = np.random.randint(1, 50, 10)\n",
    "a"
   ]
  },
  {
   "cell_type": "code",
   "execution_count": 206,
   "id": "a204ae1f-3599-4d5d-a090-1fe2a9d23779",
   "metadata": {},
   "outputs": [
    {
     "data": {
      "text/plain": [
       "array([ 5,  8, 14, 19, 31, 33, 37, 40, 46, 49])"
      ]
     },
     "execution_count": 206,
     "metadata": {},
     "output_type": "execute_result"
    }
   ],
   "source": [
    "np.sort(a)"
   ]
  },
  {
   "cell_type": "code",
   "execution_count": 210,
   "id": "2f06fa5a-edc8-47a4-bb0f-0e46f3269d96",
   "metadata": {},
   "outputs": [
    {
     "data": {
      "text/plain": [
       "49.0"
      ]
     },
     "execution_count": 210,
     "metadata": {},
     "output_type": "execute_result"
    }
   ],
   "source": [
    "np.percentile(a, 25)\n",
    "np.percentile(a, 50)\n",
    "np.percentile(a, 100)"
   ]
  },
  {
   "cell_type": "code",
   "execution_count": null,
   "id": "e7d0ca7d-5e0f-46d1-84e5-a2b9643c2ac2",
   "metadata": {},
   "outputs": [],
   "source": []
  }
 ],
 "metadata": {
  "kernelspec": {
   "display_name": "Python [conda env:base] *",
   "language": "python",
   "name": "conda-base-py"
  },
  "language_info": {
   "codemirror_mode": {
    "name": "ipython",
    "version": 3
   },
   "file_extension": ".py",
   "mimetype": "text/x-python",
   "name": "python",
   "nbconvert_exporter": "python",
   "pygments_lexer": "ipython3",
   "version": "3.12.7"
  }
 },
 "nbformat": 4,
 "nbformat_minor": 5
}
